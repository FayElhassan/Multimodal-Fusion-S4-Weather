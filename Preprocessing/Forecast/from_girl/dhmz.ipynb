{
 "cells": [
  {
   "cell_type": "markdown",
   "id": "ef4e501c-66f9-4746-ab55-b50f5a98d3ef",
   "metadata": {
    "tags": []
   },
   "source": [
    "# DHMZ\n",
    "\n",
    "July 1, 2020 Changed forecasting model Aladin resolution 8km to 4km"
   ]
  },
  {
   "cell_type": "code",
   "execution_count": 13,
   "id": "1e9c30ac-9968-47f7-a74c-116eae0fdef2",
   "metadata": {},
   "outputs": [],
   "source": [
    "import pandas as pd\n",
    "from datetime import datetime, timedelta, timezone\n",
    "import time\n",
    "import numpy as np\n",
    "import json\n",
    "import pickle\n",
    "from dateutil.relativedelta import relativedelta\n",
    "import collections"
   ]
  },
  {
   "cell_type": "code",
   "execution_count": 14,
   "outputs": [],
   "source": [
    "## Memory Reducer\n",
    "# :df pandas dataframe to reduce size             # type: pd.DataFrame()\n",
    "# :verbose                                        # type: bool\n",
    "def reduce_mem_usage(df, verbose=True):\n",
    "    numerics = ['int16', 'int32', 'int64', 'float16', 'float32', 'float64']\n",
    "    start_mem = df.memory_usage().sum() / 1024**2\n",
    "    for col in df.columns:\n",
    "        col_type = df[col].dtypes\n",
    "        if col_type in numerics:\n",
    "            c_min = df[col].min()\n",
    "            c_max = df[col].max()\n",
    "            if str(col_type)[:3] == 'int':\n",
    "                if c_min > np.iinfo(np.int8).min and c_max < np.iinfo(np.int8).max:\n",
    "                    df[col] = df[col].astype(np.int8)\n",
    "                elif c_min > np.iinfo(np.int16).min and c_max < np.iinfo(np.int16).max:\n",
    "                    df[col] = df[col].astype(np.int16)\n",
    "                elif c_min > np.iinfo(np.int32).min and c_max < np.iinfo(np.int32).max:\n",
    "                    df[col] = df[col].astype(np.int32)\n",
    "                elif c_min > np.iinfo(np.int64).min and c_max < np.iinfo(np.int64).max:\n",
    "                    df[col] = df[col].astype(np.int64)\n",
    "            else:\n",
    "                if c_min > np.finfo(np.float16).min and c_max < np.finfo(np.float16).max:\n",
    "                    df[col] = df[col].astype(np.float16)\n",
    "                elif c_min > np.finfo(np.float32).min and c_max < np.finfo(np.float32).max:\n",
    "                    df[col] = df[col].astype(np.float32)\n",
    "                else:\n",
    "                    df[col] = df[col].astype(np.float64)\n",
    "    end_mem = df.memory_usage().sum() / 1024**2\n",
    "    if verbose: print('Mem. usage decreased to {:5.2f} Mb ({:.1f}% reduction)'.format(end_mem, 100 * (start_mem - end_mem) / start_mem))\n",
    "    return df"
   ],
   "metadata": {
    "collapsed": false
   }
  },
  {
   "cell_type": "code",
   "execution_count": 23,
   "id": "ce41fa4d-b930-4c2f-b6be-6c5bbf8af291",
   "metadata": {},
   "outputs": [],
   "source": [
    "meas = \"temperature\"\n",
    "\n",
    "sampling_freq = \"h\"\n",
    "\n",
    "no_future_forecasts = 24*3\n",
    "no_last_lares_measurements = 4"
   ]
  },
  {
   "cell_type": "code",
   "execution_count": 16,
   "id": "13af31c3-13eb-485d-a515-dc509e549ba2",
   "metadata": {},
   "outputs": [],
   "source": [
    "name_pairs = {\n",
    "    'temperature': 'weather_prediction_temperature_at_2m',\n",
    "    'humidity': 'weather_prediction_relative_humidity_at_2m',\n",
    "    'global_irradiance': 'weather_prediction_total_solar_irradiance',\n",
    "    'precipitation': 'weather_prediction_total_precipitation',\n",
    "}"
   ]
  },
  {
   "cell_type": "code",
   "execution_count": 17,
   "id": "bf711348-009d-4a9e-a9fc-78e684d00971",
   "metadata": {},
   "outputs": [],
   "source": [
    "columns_to_use = [\"weather_prediction_timestamp\", \"weather_prediction_start_timestamp\", name_pairs.get(meas)]\n",
    "colnames = [\"prediction_timestamp\", \"timestamp\", meas]\n",
    "# Load DHMZ data\n",
    "dhmz_data = pd.read_csv(\n",
    "    \"dhmz.csv\",\n",
    "    engine=\"python\", \n",
    "    on_bad_lines='skip',\n",
    "    usecols=columns_to_use,\n",
    "    parse_dates=[\"weather_prediction_timestamp\", \"weather_prediction_start_timestamp\"],\n",
    "    # names=colnames,\n",
    ")\n",
    "dhmz_data.columns = colnames"
   ]
  },
  {
   "cell_type": "code",
   "execution_count": 18,
   "id": "36959ffc-5dd3-404d-a541-7ca68e12bf05",
   "metadata": {},
   "outputs": [],
   "source": [
    "# cut off everything before model change\n",
    "new_model_timestamp = datetime(year=2020, month=7, day=1)\n",
    "df_for = dhmz_data.query('timestamp >= @new_model_timestamp').copy()\n",
    "df_for.reset_index(drop=True);"
   ]
  },
  {
   "cell_type": "code",
   "execution_count": 19,
   "id": "7f3e7a22-0454-4b63-a840-b2c41a898c8e",
   "metadata": {},
   "outputs": [],
   "source": [
    "# get temperature only \n",
    "# col_names = [\"timestamp\", meas]\n",
    "# df_for = dhmz_data_4km[col_names].copy()\n",
    "# df_for.reset_index(drop=True)\n",
    "\n",
    "# switch forecasts sequences from string to np array\n",
    "for for_val in [meas,]:\n",
    "    df_for.loc[:, for_val] = df_for.loc[:, for_val].map(lambda x: np.array(json.loads(x)), na_action='ignore').copy()\n",
    "\n",
    "# set timestmp as index\n",
    "df_for.index = df_for.timestamp\n",
    "df_for.index.name = 'timestamp'\n",
    "df_for.drop(columns=['timestamp'],inplace=True)\n",
    "df_for = df_for.sort_index()"
   ]
  },
  {
   "cell_type": "code",
   "execution_count": 20,
   "id": "314900ea-2dcc-4082-900a-faa861e4cd3b",
   "metadata": {},
   "outputs": [],
   "source": [
    "# extract measurements to columns\n",
    "df_cols_ext = [meas+'_forecast+'+str(i)+'h' for i in range(0,len(df_for[meas].values[0]))]\n",
    "\n",
    "df_for = pd.DataFrame(index=df_for.index, data=df_for[meas].to_list(), columns=df_cols_ext)"
   ]
  },
  {
   "cell_type": "code",
   "execution_count": 21,
   "id": "2618a4ee-7672-4d14-9774-19af08fc56bc",
   "metadata": {},
   "outputs": [],
   "source": [
    "# cut off unneeded predictions\n",
    "# forecast_idx = np.where(df_for.columns == meas+\"_forecast+72h\")[0][0]\n",
    "# forecast_columns = df_for.columns[:forecast_idx]\n",
    "# forecast_columns\n",
    "\n",
    "# df_for = df_for[forecast_columns].copy()"
   ]
  },
  {
   "cell_type": "code",
   "execution_count": 22,
   "id": "4bc5b3d1-207a-42a8-b972-14f38ce170e4",
   "metadata": {},
   "outputs": [
    {
     "name": "stdout",
     "output_type": "stream",
     "text": [
      "Mem. usage decreased to  3.46 Mb (74.0% reduction)\n"
     ]
    }
   ],
   "source": [
    "# resample dhmz data\n",
    "df_for = df_for.asfreq(sampling_freq)\n",
    "df_for = df_for.ffill()\n",
    "\n",
    "df_for = reduce_mem_usage(df_for)"
   ]
  },
  {
   "cell_type": "code",
   "execution_count": 24,
   "outputs": [],
   "source": [
    "previous_columns = [meas + '_forecast-' + str(shift) + 'h' for shift in range(no_last_lares_measurements,0,-1)]\n",
    "future_columns = df_for.columns.values.tolist()\n",
    "future_values = df_for.values\n",
    "df_for = pd.DataFrame(np.nan, index=df_for.index, columns=previous_columns + future_columns)\n",
    "df_for.loc[:, future_columns] = future_values"
   ],
   "metadata": {
    "collapsed": false
   }
  },
  {
   "cell_type": "code",
   "execution_count": 25,
   "outputs": [],
   "source": [
    "# shift every next row by 1 (between forecasts)\n",
    "previous_values = df_for.iloc[0, :no_last_lares_measurements].copy()\n",
    "previous_values = collections.deque(previous_values, len(previous_values))\n",
    "for ts in df_for.index:\n",
    "    # DHMZ forecast arrives every 6 hours - shifting between\n",
    "    column_shift = ts.hour % 6\n",
    "\n",
    "    df_for.loc[ts] = df_for.loc[ts].shift(periods=-1*column_shift)\n",
    "    df_for.loc[ts, previous_columns] = previous_values\n",
    "    previous_values.append(df_for.loc[ts, future_columns[0]])"
   ],
   "metadata": {
    "collapsed": false
   }
  },
  {
   "cell_type": "code",
   "execution_count": 26,
   "outputs": [
    {
     "data": {
      "text/plain": "                     temperature_forecast-4h  temperature_forecast-3h  \\\ntimestamp                                                               \n2020-07-01 00:00:00                      NaN                      NaN   \n2020-07-01 01:00:00                      NaN                      NaN   \n2020-07-01 02:00:00                      NaN                      NaN   \n2020-07-01 03:00:00                      NaN                21.296875   \n2020-07-01 04:00:00                21.296875                20.906250   \n...                                      ...                      ...   \n2023-03-10 02:00:00                10.898438                10.601562   \n2023-03-10 03:00:00                10.601562                 8.000000   \n2023-03-10 04:00:00                 8.000000                 8.203125   \n2023-03-10 05:00:00                 8.203125                 8.296875   \n2023-03-10 06:00:00                 8.296875                 8.500000   \n\n                     temperature_forecast-2h  temperature_forecast-1h  \\\ntimestamp                                                               \n2020-07-01 00:00:00                      NaN                      NaN   \n2020-07-01 01:00:00                      NaN                21.296875   \n2020-07-01 02:00:00                21.296875                20.906250   \n2020-07-01 03:00:00                20.906250                20.796875   \n2020-07-01 04:00:00                20.796875                20.796875   \n...                                      ...                      ...   \n2023-03-10 02:00:00                 8.000000                 8.203125   \n2023-03-10 03:00:00                 8.203125                 8.296875   \n2023-03-10 04:00:00                 8.296875                 8.500000   \n2023-03-10 05:00:00                 8.500000                 8.500000   \n2023-03-10 06:00:00                 8.500000                 8.500000   \n\n                     temperature_forecast+0h  temperature_forecast+1h  \\\ntimestamp                                                               \n2020-07-01 00:00:00                21.296875                20.906250   \n2020-07-01 01:00:00                20.906250                20.796875   \n2020-07-01 02:00:00                20.796875                20.796875   \n2020-07-01 03:00:00                20.796875                21.000000   \n2020-07-01 04:00:00                21.000000                22.093750   \n...                                      ...                      ...   \n2023-03-10 02:00:00                 8.296875                 8.500000   \n2023-03-10 03:00:00                 8.500000                 8.500000   \n2023-03-10 04:00:00                 8.500000                 8.500000   \n2023-03-10 05:00:00                 8.500000                 8.703125   \n2023-03-10 06:00:00                 6.800781                 8.203125   \n\n                     temperature_forecast+2h  temperature_forecast+3h  \\\ntimestamp                                                               \n2020-07-01 00:00:00                20.796875                20.796875   \n2020-07-01 01:00:00                20.796875                21.000000   \n2020-07-01 02:00:00                21.000000                22.093750   \n2020-07-01 03:00:00                22.093750                23.703125   \n2020-07-01 04:00:00                23.703125                25.203125   \n...                                      ...                      ...   \n2023-03-10 02:00:00                 8.500000                 8.500000   \n2023-03-10 03:00:00                 8.500000                 8.703125   \n2023-03-10 04:00:00                 8.703125                10.101562   \n2023-03-10 05:00:00                10.101562                12.296875   \n2023-03-10 06:00:00                10.796875                13.796875   \n\n                     temperature_forecast+4h  temperature_forecast+5h  ...  \\\ntimestamp                                                              ...   \n2020-07-01 00:00:00                21.000000                22.093750  ...   \n2020-07-01 01:00:00                22.093750                23.703125  ...   \n2020-07-01 02:00:00                23.703125                25.203125  ...   \n2020-07-01 03:00:00                25.203125                26.500000  ...   \n2020-07-01 04:00:00                26.500000                28.203125  ...   \n...                                      ...                      ...  ...   \n2023-03-10 02:00:00                 8.703125                10.101562  ...   \n2023-03-10 03:00:00                10.101562                12.296875  ...   \n2023-03-10 04:00:00                12.296875                15.500000  ...   \n2023-03-10 05:00:00                15.500000                17.593750  ...   \n2023-03-10 06:00:00                16.796875                17.406250  ...   \n\n                     temperature_forecast+63h  temperature_forecast+64h  \\\ntimestamp                                                                 \n2020-07-01 00:00:00                 22.406250                 22.796875   \n2020-07-01 01:00:00                 22.796875                 22.796875   \n2020-07-01 02:00:00                 22.796875                 22.296875   \n2020-07-01 03:00:00                 22.296875                 21.500000   \n2020-07-01 04:00:00                 21.500000                 20.906250   \n...                                       ...                       ...   \n2023-03-10 02:00:00                  7.500000                  6.000000   \n2023-03-10 03:00:00                  6.000000                  5.199219   \n2023-03-10 04:00:00                  5.199219                  4.500000   \n2023-03-10 05:00:00                  4.500000                  4.101562   \n2023-03-10 06:00:00                  3.900391                  3.400391   \n\n                     temperature_forecast+65h  temperature_forecast+66h  \\\ntimestamp                                                                 \n2020-07-01 00:00:00                 22.796875                 22.296875   \n2020-07-01 01:00:00                 22.296875                 21.500000   \n2020-07-01 02:00:00                 21.500000                 20.906250   \n2020-07-01 03:00:00                 20.906250                 20.593750   \n2020-07-01 04:00:00                 20.593750                 20.406250   \n...                                       ...                       ...   \n2023-03-10 02:00:00                  5.199219                  4.500000   \n2023-03-10 03:00:00                  4.500000                  4.101562   \n2023-03-10 04:00:00                  4.101562                  3.500000   \n2023-03-10 05:00:00                  3.500000                  2.900391   \n2023-03-10 06:00:00                  2.800781                  2.400391   \n\n                     temperature_forecast+67h  temperature_forecast+68h  \\\ntimestamp                                                                 \n2020-07-01 00:00:00                 21.500000                 20.906250   \n2020-07-01 01:00:00                 20.906250                 20.593750   \n2020-07-01 02:00:00                 20.593750                 20.406250   \n2020-07-01 03:00:00                 20.406250                 20.093750   \n2020-07-01 04:00:00                 20.093750                 19.796875   \n...                                       ...                       ...   \n2023-03-10 02:00:00                  4.101562                  3.500000   \n2023-03-10 03:00:00                  3.500000                  2.900391   \n2023-03-10 04:00:00                  2.900391                  2.599609   \n2023-03-10 05:00:00                  2.599609                       NaN   \n2023-03-10 06:00:00                  2.099609                  1.799805   \n\n                     temperature_forecast+69h  temperature_forecast+70h  \\\ntimestamp                                                                 \n2020-07-01 00:00:00                 20.593750                 20.406250   \n2020-07-01 01:00:00                 20.406250                 20.093750   \n2020-07-01 02:00:00                 20.093750                 19.796875   \n2020-07-01 03:00:00                 19.796875                       NaN   \n2020-07-01 04:00:00                       NaN                       NaN   \n...                                       ...                       ...   \n2023-03-10 02:00:00                  2.900391                  2.599609   \n2023-03-10 03:00:00                  2.599609                       NaN   \n2023-03-10 04:00:00                       NaN                       NaN   \n2023-03-10 05:00:00                       NaN                       NaN   \n2023-03-10 06:00:00                  1.400391                  1.200195   \n\n                     temperature_forecast+71h  temperature_forecast+72h  \ntimestamp                                                                \n2020-07-01 00:00:00                 20.093750                 19.796875  \n2020-07-01 01:00:00                 19.796875                       NaN  \n2020-07-01 02:00:00                       NaN                       NaN  \n2020-07-01 03:00:00                       NaN                       NaN  \n2020-07-01 04:00:00                       NaN                       NaN  \n...                                       ...                       ...  \n2023-03-10 02:00:00                       NaN                       NaN  \n2023-03-10 03:00:00                       NaN                       NaN  \n2023-03-10 04:00:00                       NaN                       NaN  \n2023-03-10 05:00:00                       NaN                       NaN  \n2023-03-10 06:00:00                  1.200195                  1.400391  \n\n[23575 rows x 77 columns]",
      "text/html": "<div>\n<style scoped>\n    .dataframe tbody tr th:only-of-type {\n        vertical-align: middle;\n    }\n\n    .dataframe tbody tr th {\n        vertical-align: top;\n    }\n\n    .dataframe thead th {\n        text-align: right;\n    }\n</style>\n<table border=\"1\" class=\"dataframe\">\n  <thead>\n    <tr style=\"text-align: right;\">\n      <th></th>\n      <th>temperature_forecast-4h</th>\n      <th>temperature_forecast-3h</th>\n      <th>temperature_forecast-2h</th>\n      <th>temperature_forecast-1h</th>\n      <th>temperature_forecast+0h</th>\n      <th>temperature_forecast+1h</th>\n      <th>temperature_forecast+2h</th>\n      <th>temperature_forecast+3h</th>\n      <th>temperature_forecast+4h</th>\n      <th>temperature_forecast+5h</th>\n      <th>...</th>\n      <th>temperature_forecast+63h</th>\n      <th>temperature_forecast+64h</th>\n      <th>temperature_forecast+65h</th>\n      <th>temperature_forecast+66h</th>\n      <th>temperature_forecast+67h</th>\n      <th>temperature_forecast+68h</th>\n      <th>temperature_forecast+69h</th>\n      <th>temperature_forecast+70h</th>\n      <th>temperature_forecast+71h</th>\n      <th>temperature_forecast+72h</th>\n    </tr>\n    <tr>\n      <th>timestamp</th>\n      <th></th>\n      <th></th>\n      <th></th>\n      <th></th>\n      <th></th>\n      <th></th>\n      <th></th>\n      <th></th>\n      <th></th>\n      <th></th>\n      <th></th>\n      <th></th>\n      <th></th>\n      <th></th>\n      <th></th>\n      <th></th>\n      <th></th>\n      <th></th>\n      <th></th>\n      <th></th>\n      <th></th>\n    </tr>\n  </thead>\n  <tbody>\n    <tr>\n      <th>2020-07-01 00:00:00</th>\n      <td>NaN</td>\n      <td>NaN</td>\n      <td>NaN</td>\n      <td>NaN</td>\n      <td>21.296875</td>\n      <td>20.906250</td>\n      <td>20.796875</td>\n      <td>20.796875</td>\n      <td>21.000000</td>\n      <td>22.093750</td>\n      <td>...</td>\n      <td>22.406250</td>\n      <td>22.796875</td>\n      <td>22.796875</td>\n      <td>22.296875</td>\n      <td>21.500000</td>\n      <td>20.906250</td>\n      <td>20.593750</td>\n      <td>20.406250</td>\n      <td>20.093750</td>\n      <td>19.796875</td>\n    </tr>\n    <tr>\n      <th>2020-07-01 01:00:00</th>\n      <td>NaN</td>\n      <td>NaN</td>\n      <td>NaN</td>\n      <td>21.296875</td>\n      <td>20.906250</td>\n      <td>20.796875</td>\n      <td>20.796875</td>\n      <td>21.000000</td>\n      <td>22.093750</td>\n      <td>23.703125</td>\n      <td>...</td>\n      <td>22.796875</td>\n      <td>22.796875</td>\n      <td>22.296875</td>\n      <td>21.500000</td>\n      <td>20.906250</td>\n      <td>20.593750</td>\n      <td>20.406250</td>\n      <td>20.093750</td>\n      <td>19.796875</td>\n      <td>NaN</td>\n    </tr>\n    <tr>\n      <th>2020-07-01 02:00:00</th>\n      <td>NaN</td>\n      <td>NaN</td>\n      <td>21.296875</td>\n      <td>20.906250</td>\n      <td>20.796875</td>\n      <td>20.796875</td>\n      <td>21.000000</td>\n      <td>22.093750</td>\n      <td>23.703125</td>\n      <td>25.203125</td>\n      <td>...</td>\n      <td>22.796875</td>\n      <td>22.296875</td>\n      <td>21.500000</td>\n      <td>20.906250</td>\n      <td>20.593750</td>\n      <td>20.406250</td>\n      <td>20.093750</td>\n      <td>19.796875</td>\n      <td>NaN</td>\n      <td>NaN</td>\n    </tr>\n    <tr>\n      <th>2020-07-01 03:00:00</th>\n      <td>NaN</td>\n      <td>21.296875</td>\n      <td>20.906250</td>\n      <td>20.796875</td>\n      <td>20.796875</td>\n      <td>21.000000</td>\n      <td>22.093750</td>\n      <td>23.703125</td>\n      <td>25.203125</td>\n      <td>26.500000</td>\n      <td>...</td>\n      <td>22.296875</td>\n      <td>21.500000</td>\n      <td>20.906250</td>\n      <td>20.593750</td>\n      <td>20.406250</td>\n      <td>20.093750</td>\n      <td>19.796875</td>\n      <td>NaN</td>\n      <td>NaN</td>\n      <td>NaN</td>\n    </tr>\n    <tr>\n      <th>2020-07-01 04:00:00</th>\n      <td>21.296875</td>\n      <td>20.906250</td>\n      <td>20.796875</td>\n      <td>20.796875</td>\n      <td>21.000000</td>\n      <td>22.093750</td>\n      <td>23.703125</td>\n      <td>25.203125</td>\n      <td>26.500000</td>\n      <td>28.203125</td>\n      <td>...</td>\n      <td>21.500000</td>\n      <td>20.906250</td>\n      <td>20.593750</td>\n      <td>20.406250</td>\n      <td>20.093750</td>\n      <td>19.796875</td>\n      <td>NaN</td>\n      <td>NaN</td>\n      <td>NaN</td>\n      <td>NaN</td>\n    </tr>\n    <tr>\n      <th>...</th>\n      <td>...</td>\n      <td>...</td>\n      <td>...</td>\n      <td>...</td>\n      <td>...</td>\n      <td>...</td>\n      <td>...</td>\n      <td>...</td>\n      <td>...</td>\n      <td>...</td>\n      <td>...</td>\n      <td>...</td>\n      <td>...</td>\n      <td>...</td>\n      <td>...</td>\n      <td>...</td>\n      <td>...</td>\n      <td>...</td>\n      <td>...</td>\n      <td>...</td>\n      <td>...</td>\n    </tr>\n    <tr>\n      <th>2023-03-10 02:00:00</th>\n      <td>10.898438</td>\n      <td>10.601562</td>\n      <td>8.000000</td>\n      <td>8.203125</td>\n      <td>8.296875</td>\n      <td>8.500000</td>\n      <td>8.500000</td>\n      <td>8.500000</td>\n      <td>8.703125</td>\n      <td>10.101562</td>\n      <td>...</td>\n      <td>7.500000</td>\n      <td>6.000000</td>\n      <td>5.199219</td>\n      <td>4.500000</td>\n      <td>4.101562</td>\n      <td>3.500000</td>\n      <td>2.900391</td>\n      <td>2.599609</td>\n      <td>NaN</td>\n      <td>NaN</td>\n    </tr>\n    <tr>\n      <th>2023-03-10 03:00:00</th>\n      <td>10.601562</td>\n      <td>8.000000</td>\n      <td>8.203125</td>\n      <td>8.296875</td>\n      <td>8.500000</td>\n      <td>8.500000</td>\n      <td>8.500000</td>\n      <td>8.703125</td>\n      <td>10.101562</td>\n      <td>12.296875</td>\n      <td>...</td>\n      <td>6.000000</td>\n      <td>5.199219</td>\n      <td>4.500000</td>\n      <td>4.101562</td>\n      <td>3.500000</td>\n      <td>2.900391</td>\n      <td>2.599609</td>\n      <td>NaN</td>\n      <td>NaN</td>\n      <td>NaN</td>\n    </tr>\n    <tr>\n      <th>2023-03-10 04:00:00</th>\n      <td>8.000000</td>\n      <td>8.203125</td>\n      <td>8.296875</td>\n      <td>8.500000</td>\n      <td>8.500000</td>\n      <td>8.500000</td>\n      <td>8.703125</td>\n      <td>10.101562</td>\n      <td>12.296875</td>\n      <td>15.500000</td>\n      <td>...</td>\n      <td>5.199219</td>\n      <td>4.500000</td>\n      <td>4.101562</td>\n      <td>3.500000</td>\n      <td>2.900391</td>\n      <td>2.599609</td>\n      <td>NaN</td>\n      <td>NaN</td>\n      <td>NaN</td>\n      <td>NaN</td>\n    </tr>\n    <tr>\n      <th>2023-03-10 05:00:00</th>\n      <td>8.203125</td>\n      <td>8.296875</td>\n      <td>8.500000</td>\n      <td>8.500000</td>\n      <td>8.500000</td>\n      <td>8.703125</td>\n      <td>10.101562</td>\n      <td>12.296875</td>\n      <td>15.500000</td>\n      <td>17.593750</td>\n      <td>...</td>\n      <td>4.500000</td>\n      <td>4.101562</td>\n      <td>3.500000</td>\n      <td>2.900391</td>\n      <td>2.599609</td>\n      <td>NaN</td>\n      <td>NaN</td>\n      <td>NaN</td>\n      <td>NaN</td>\n      <td>NaN</td>\n    </tr>\n    <tr>\n      <th>2023-03-10 06:00:00</th>\n      <td>8.296875</td>\n      <td>8.500000</td>\n      <td>8.500000</td>\n      <td>8.500000</td>\n      <td>6.800781</td>\n      <td>8.203125</td>\n      <td>10.796875</td>\n      <td>13.796875</td>\n      <td>16.796875</td>\n      <td>17.406250</td>\n      <td>...</td>\n      <td>3.900391</td>\n      <td>3.400391</td>\n      <td>2.800781</td>\n      <td>2.400391</td>\n      <td>2.099609</td>\n      <td>1.799805</td>\n      <td>1.400391</td>\n      <td>1.200195</td>\n      <td>1.200195</td>\n      <td>1.400391</td>\n    </tr>\n  </tbody>\n</table>\n<p>23575 rows × 77 columns</p>\n</div>"
     },
     "execution_count": 26,
     "metadata": {},
     "output_type": "execute_result"
    }
   ],
   "source": [
    "df_for"
   ],
   "metadata": {
    "collapsed": false
   }
  },
  {
   "cell_type": "markdown",
   "source": [
    "# EOF"
   ],
   "metadata": {
    "collapsed": false
   }
  }
 ],
 "metadata": {
  "kernelspec": {
   "display_name": "Python 3 (ipykernel)",
   "language": "python",
   "name": "python3"
  },
  "language_info": {
   "codemirror_mode": {
    "name": "ipython",
    "version": 3
   },
   "file_extension": ".py",
   "mimetype": "text/x-python",
   "name": "python",
   "nbconvert_exporter": "python",
   "pygments_lexer": "ipython3",
   "version": "3.12.1"
  }
 },
 "nbformat": 4,
 "nbformat_minor": 5
}
