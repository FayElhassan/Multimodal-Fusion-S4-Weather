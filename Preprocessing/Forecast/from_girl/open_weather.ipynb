{
 "cells": [
  {
   "cell_type": "markdown",
   "metadata": {},
   "source": [
    "# Weather forecast (OpenSource)"
   ]
  },
  {
   "cell_type": "code",
   "execution_count": 1,
   "metadata": {
    "collapsed": false,
    "jupyter": {
     "outputs_hidden": false
    }
   },
   "outputs": [],
   "source": [
    "import warnings\n",
    "warnings.simplefilter(action='ignore', category=FutureWarning)"
   ]
  },
  {
   "cell_type": "markdown",
   "metadata": {},
   "source": [
    "## IMPORTS"
   ]
  },
  {
   "cell_type": "code",
   "execution_count": 2,
   "metadata": {
    "collapsed": false,
    "jupyter": {
     "outputs_hidden": false
    }
   },
   "outputs": [],
   "source": [
    "# ALL\n",
    "import json\n",
    "import ast\n",
    "import re\n",
    "import pickle\n",
    "import time, datetime\n",
    "\n",
    "# AS\n",
    "import numpy as np, pandas as pd\n",
    "\n",
    "# FROM\n",
    "# from dateutil.relativedelta import relativedelta\n",
    "\n",
    "# FROM .PY FILES\n",
    "from convert_columns_to_floats import *"
   ]
  },
  {
   "cell_type": "markdown",
   "metadata": {},
   "source": [
    "## LOAD DATA"
   ]
  },
  {
   "cell_type": "code",
   "execution_count": 3,
   "metadata": {},
   "outputs": [],
   "source": [
    "weather_modality_directory = \"/Users/izzymohamed/Desktop/Fay/Data/forecasts\""
   ]
  },
  {
   "cell_type": "code",
   "execution_count": 4,
   "metadata": {
    "collapsed": false,
    "jupyter": {
     "outputs_hidden": false
    }
   },
   "outputs": [],
   "source": [
    "# load data\n",
    "df_for = pd.read_csv(weather_modality_directory+'/open_weather.csv', index_col='timestamp', parse_dates=True, date_parser=pd.to_datetime)"
   ]
  },
  {
   "cell_type": "code",
   "execution_count": 5,
   "metadata": {},
   "outputs": [
    {
     "data": {
      "text/html": [
       "<div>\n",
       "<style scoped>\n",
       "    .dataframe tbody tr th:only-of-type {\n",
       "        vertical-align: middle;\n",
       "    }\n",
       "\n",
       "    .dataframe tbody tr th {\n",
       "        vertical-align: top;\n",
       "    }\n",
       "\n",
       "    .dataframe thead th {\n",
       "        text-align: right;\n",
       "    }\n",
       "</style>\n",
       "<table border=\"1\" class=\"dataframe\">\n",
       "  <thead>\n",
       "    <tr style=\"text-align: right;\">\n",
       "      <th></th>\n",
       "      <th>temperature</th>\n",
       "      <th>humidity</th>\n",
       "      <th>pressure</th>\n",
       "      <th>cloud_cover</th>\n",
       "      <th>wind_speed</th>\n",
       "      <th>wind_direction</th>\n",
       "      <th>weather_code</th>\n",
       "      <th>poprecipitation</th>\n",
       "    </tr>\n",
       "    <tr>\n",
       "      <th>timestamp</th>\n",
       "      <th></th>\n",
       "      <th></th>\n",
       "      <th></th>\n",
       "      <th></th>\n",
       "      <th></th>\n",
       "      <th></th>\n",
       "      <th></th>\n",
       "      <th></th>\n",
       "    </tr>\n",
       "  </thead>\n",
       "  <tbody>\n",
       "    <tr>\n",
       "      <th>2021-04-30 22:00:00</th>\n",
       "      <td>[15.56, 15.26, 14.84, 14.2, 13.18, 12.13, 12.0...</td>\n",
       "      <td>[67, 69, 71, 74, 79, 84, 85, 81, 73, 66, 61, 5...</td>\n",
       "      <td>[1010, 1010, 1010, 1010, 1010, 1010, 1010, 101...</td>\n",
       "      <td>[0, 18, 34, 60, 57, 75, 81, 85, 86, 100, 100, ...</td>\n",
       "      <td>[1.72, 1.5, 1.94, 1.8, 1.66, 1.28, 1.15, 0.84,...</td>\n",
       "      <td>[252, 242, 243, 221, 230, 223, 231, 229, 221, ...</td>\n",
       "      <td>{'id': [800, 801, 802, 803, 803, 803, 803, 804...</td>\n",
       "      <td>[0, 0, 0, 0, 0, 0, 0, 0, 0, 0, 0, 0, 0, 0.02, ...</td>\n",
       "    </tr>\n",
       "    <tr>\n",
       "      <th>2021-04-30 22:15:00</th>\n",
       "      <td>[15.56, 15.26, 14.84, 14.2, 13.18, 12.13, 12.0...</td>\n",
       "      <td>[67, 69, 71, 74, 79, 84, 85, 81, 73, 66, 61, 5...</td>\n",
       "      <td>[1010, 1010, 1010, 1010, 1010, 1010, 1010, 101...</td>\n",
       "      <td>[0, 18, 34, 60, 57, 75, 81, 85, 86, 100, 100, ...</td>\n",
       "      <td>[1.72, 1.5, 1.94, 1.8, 1.66, 1.28, 1.15, 0.84,...</td>\n",
       "      <td>[252, 242, 243, 221, 230, 223, 231, 229, 221, ...</td>\n",
       "      <td>{'id': [800, 801, 802, 803, 803, 803, 803, 804...</td>\n",
       "      <td>[0, 0, 0, 0, 0, 0, 0, 0, 0, 0, 0, 0, 0, 0.02, ...</td>\n",
       "    </tr>\n",
       "    <tr>\n",
       "      <th>2021-04-30 22:30:00</th>\n",
       "      <td>[15.36, 15.56, 15.2, 14.65, 13.78, 12.82, 12.0...</td>\n",
       "      <td>[69, 67, 69, 72, 76, 81, 85, 81, 73, 66, 61, 5...</td>\n",
       "      <td>[1010, 1010, 1010, 1010, 1010, 1010, 1010, 101...</td>\n",
       "      <td>[18, 0, 17, 40, 43, 60, 81, 85, 86, 100, 100, ...</td>\n",
       "      <td>[1.72, 1.5, 1.94, 1.8, 1.66, 1.28, 1.15, 0.84,...</td>\n",
       "      <td>[252, 242, 243, 221, 230, 223, 231, 229, 221, ...</td>\n",
       "      <td>{'id': [801, 800, 801, 802, 802, 803, 803, 804...</td>\n",
       "      <td>[0, 0, 0, 0, 0, 0, 0, 0, 0, 0, 0, 0, 0, 0.02, ...</td>\n",
       "    </tr>\n",
       "    <tr>\n",
       "      <th>2021-04-30 22:45:00</th>\n",
       "      <td>[15.28, 15.47, 15.13, 14.6, 13.74, 12.8, 12.08...</td>\n",
       "      <td>[73, 72, 73, 75, 78, 82, 85, 81, 73, 66, 61, 5...</td>\n",
       "      <td>[1010, 1010, 1010, 1010, 1010, 1010, 1010, 101...</td>\n",
       "      <td>[18, 0, 17, 40, 43, 60, 81, 85, 86, 100, 100, ...</td>\n",
       "      <td>[1.72, 1.5, 1.94, 1.8, 1.66, 1.28, 1.15, 0.84,...</td>\n",
       "      <td>[252, 242, 243, 221, 230, 223, 231, 229, 221, ...</td>\n",
       "      <td>{'id': [801, 800, 801, 802, 802, 803, 803, 804...</td>\n",
       "      <td>[0, 0, 0, 0, 0, 0, 0, 0, 0, 0, 0, 0, 0, 0.02, ...</td>\n",
       "    </tr>\n",
       "    <tr>\n",
       "      <th>2021-04-30 23:00:00</th>\n",
       "      <td>[15.48, 15.13, 14.6, 13.75, 12.8, 12.08, 13.32...</td>\n",
       "      <td>[72, 73, 75, 78, 82, 85, 81, 73, 66, 61, 56, 5...</td>\n",
       "      <td>[1010, 1010, 1010, 1010, 1010, 1010, 1011, 101...</td>\n",
       "      <td>[0, 17, 40, 43, 60, 81, 85, 86, 100, 100, 100,...</td>\n",
       "      <td>[1.5, 1.94, 1.8, 1.66, 1.28, 1.15, 0.84, 0.54,...</td>\n",
       "      <td>[242, 243, 221, 230, 223, 231, 229, 221, 239, ...</td>\n",
       "      <td>{'id': [800, 801, 802, 802, 803, 803, 804, 804...</td>\n",
       "      <td>[0, 0, 0, 0, 0, 0, 0, 0, 0, 0, 0, 0, 0.02, 0.2...</td>\n",
       "    </tr>\n",
       "  </tbody>\n",
       "</table>\n",
       "</div>"
      ],
      "text/plain": [
       "                                                           temperature  \\\n",
       "timestamp                                                                \n",
       "2021-04-30 22:00:00  [15.56, 15.26, 14.84, 14.2, 13.18, 12.13, 12.0...   \n",
       "2021-04-30 22:15:00  [15.56, 15.26, 14.84, 14.2, 13.18, 12.13, 12.0...   \n",
       "2021-04-30 22:30:00  [15.36, 15.56, 15.2, 14.65, 13.78, 12.82, 12.0...   \n",
       "2021-04-30 22:45:00  [15.28, 15.47, 15.13, 14.6, 13.74, 12.8, 12.08...   \n",
       "2021-04-30 23:00:00  [15.48, 15.13, 14.6, 13.75, 12.8, 12.08, 13.32...   \n",
       "\n",
       "                                                              humidity  \\\n",
       "timestamp                                                                \n",
       "2021-04-30 22:00:00  [67, 69, 71, 74, 79, 84, 85, 81, 73, 66, 61, 5...   \n",
       "2021-04-30 22:15:00  [67, 69, 71, 74, 79, 84, 85, 81, 73, 66, 61, 5...   \n",
       "2021-04-30 22:30:00  [69, 67, 69, 72, 76, 81, 85, 81, 73, 66, 61, 5...   \n",
       "2021-04-30 22:45:00  [73, 72, 73, 75, 78, 82, 85, 81, 73, 66, 61, 5...   \n",
       "2021-04-30 23:00:00  [72, 73, 75, 78, 82, 85, 81, 73, 66, 61, 56, 5...   \n",
       "\n",
       "                                                              pressure  \\\n",
       "timestamp                                                                \n",
       "2021-04-30 22:00:00  [1010, 1010, 1010, 1010, 1010, 1010, 1010, 101...   \n",
       "2021-04-30 22:15:00  [1010, 1010, 1010, 1010, 1010, 1010, 1010, 101...   \n",
       "2021-04-30 22:30:00  [1010, 1010, 1010, 1010, 1010, 1010, 1010, 101...   \n",
       "2021-04-30 22:45:00  [1010, 1010, 1010, 1010, 1010, 1010, 1010, 101...   \n",
       "2021-04-30 23:00:00  [1010, 1010, 1010, 1010, 1010, 1010, 1011, 101...   \n",
       "\n",
       "                                                           cloud_cover  \\\n",
       "timestamp                                                                \n",
       "2021-04-30 22:00:00  [0, 18, 34, 60, 57, 75, 81, 85, 86, 100, 100, ...   \n",
       "2021-04-30 22:15:00  [0, 18, 34, 60, 57, 75, 81, 85, 86, 100, 100, ...   \n",
       "2021-04-30 22:30:00  [18, 0, 17, 40, 43, 60, 81, 85, 86, 100, 100, ...   \n",
       "2021-04-30 22:45:00  [18, 0, 17, 40, 43, 60, 81, 85, 86, 100, 100, ...   \n",
       "2021-04-30 23:00:00  [0, 17, 40, 43, 60, 81, 85, 86, 100, 100, 100,...   \n",
       "\n",
       "                                                            wind_speed  \\\n",
       "timestamp                                                                \n",
       "2021-04-30 22:00:00  [1.72, 1.5, 1.94, 1.8, 1.66, 1.28, 1.15, 0.84,...   \n",
       "2021-04-30 22:15:00  [1.72, 1.5, 1.94, 1.8, 1.66, 1.28, 1.15, 0.84,...   \n",
       "2021-04-30 22:30:00  [1.72, 1.5, 1.94, 1.8, 1.66, 1.28, 1.15, 0.84,...   \n",
       "2021-04-30 22:45:00  [1.72, 1.5, 1.94, 1.8, 1.66, 1.28, 1.15, 0.84,...   \n",
       "2021-04-30 23:00:00  [1.5, 1.94, 1.8, 1.66, 1.28, 1.15, 0.84, 0.54,...   \n",
       "\n",
       "                                                        wind_direction  \\\n",
       "timestamp                                                                \n",
       "2021-04-30 22:00:00  [252, 242, 243, 221, 230, 223, 231, 229, 221, ...   \n",
       "2021-04-30 22:15:00  [252, 242, 243, 221, 230, 223, 231, 229, 221, ...   \n",
       "2021-04-30 22:30:00  [252, 242, 243, 221, 230, 223, 231, 229, 221, ...   \n",
       "2021-04-30 22:45:00  [252, 242, 243, 221, 230, 223, 231, 229, 221, ...   \n",
       "2021-04-30 23:00:00  [242, 243, 221, 230, 223, 231, 229, 221, 239, ...   \n",
       "\n",
       "                                                          weather_code  \\\n",
       "timestamp                                                                \n",
       "2021-04-30 22:00:00  {'id': [800, 801, 802, 803, 803, 803, 803, 804...   \n",
       "2021-04-30 22:15:00  {'id': [800, 801, 802, 803, 803, 803, 803, 804...   \n",
       "2021-04-30 22:30:00  {'id': [801, 800, 801, 802, 802, 803, 803, 804...   \n",
       "2021-04-30 22:45:00  {'id': [801, 800, 801, 802, 802, 803, 803, 804...   \n",
       "2021-04-30 23:00:00  {'id': [800, 801, 802, 802, 803, 803, 804, 804...   \n",
       "\n",
       "                                                       poprecipitation  \n",
       "timestamp                                                               \n",
       "2021-04-30 22:00:00  [0, 0, 0, 0, 0, 0, 0, 0, 0, 0, 0, 0, 0, 0.02, ...  \n",
       "2021-04-30 22:15:00  [0, 0, 0, 0, 0, 0, 0, 0, 0, 0, 0, 0, 0, 0.02, ...  \n",
       "2021-04-30 22:30:00  [0, 0, 0, 0, 0, 0, 0, 0, 0, 0, 0, 0, 0, 0.02, ...  \n",
       "2021-04-30 22:45:00  [0, 0, 0, 0, 0, 0, 0, 0, 0, 0, 0, 0, 0, 0.02, ...  \n",
       "2021-04-30 23:00:00  [0, 0, 0, 0, 0, 0, 0, 0, 0, 0, 0, 0, 0.02, 0.2...  "
      ]
     },
     "execution_count": 5,
     "metadata": {},
     "output_type": "execute_result"
    }
   ],
   "source": [
    "df_for.head()"
   ]
  },
  {
   "cell_type": "code",
   "execution_count": 6,
   "metadata": {},
   "outputs": [
    {
     "data": {
      "text/plain": [
       "Index(['temperature', 'humidity', 'pressure', 'cloud_cover', 'wind_speed',\n",
       "       'wind_direction', 'weather_code', 'poprecipitation'],\n",
       "      dtype='object')"
      ]
     },
     "execution_count": 6,
     "metadata": {},
     "output_type": "execute_result"
    }
   ],
   "source": [
    "df_for.columns"
   ]
  },
  {
   "cell_type": "markdown",
   "metadata": {},
   "source": [
    "## CONVERT STRING TO FLOAT"
   ]
  },
  {
   "cell_type": "code",
   "execution_count": 7,
   "metadata": {},
   "outputs": [
    {
     "name": "stdout",
     "output_type": "stream",
     "text": [
      "Processing column: temperature\n",
      "Processed column: temperature\n",
      "Processing column: humidity\n",
      "Processed column: humidity\n",
      "Processing column: pressure\n",
      "Processed column: pressure\n",
      "Processing column: cloud_cover\n",
      "Processed column: cloud_cover\n",
      "Processing column: wind_speed\n",
      "Processed column: wind_speed\n",
      "Processing column: wind_direction\n",
      "Processed column: wind_direction\n",
      "Processing column: weather_code\n",
      "Processed column: weather_code\n",
      "Processing column: poprecipitation\n",
      "Processed column: poprecipitation\n"
     ]
    }
   ],
   "source": [
    "df_for = convert_columns_to_floats2(df_for)"
   ]
  },
  {
   "cell_type": "code",
   "execution_count": 8,
   "metadata": {},
   "outputs": [
    {
     "data": {
      "text/html": [
       "<div>\n",
       "<style scoped>\n",
       "    .dataframe tbody tr th:only-of-type {\n",
       "        vertical-align: middle;\n",
       "    }\n",
       "\n",
       "    .dataframe tbody tr th {\n",
       "        vertical-align: top;\n",
       "    }\n",
       "\n",
       "    .dataframe thead th {\n",
       "        text-align: right;\n",
       "    }\n",
       "</style>\n",
       "<table border=\"1\" class=\"dataframe\">\n",
       "  <thead>\n",
       "    <tr style=\"text-align: right;\">\n",
       "      <th></th>\n",
       "      <th>temperature</th>\n",
       "      <th>humidity</th>\n",
       "      <th>pressure</th>\n",
       "      <th>cloud_cover</th>\n",
       "      <th>wind_speed</th>\n",
       "      <th>wind_direction</th>\n",
       "      <th>weather_code</th>\n",
       "      <th>poprecipitation</th>\n",
       "    </tr>\n",
       "    <tr>\n",
       "      <th>timestamp</th>\n",
       "      <th></th>\n",
       "      <th></th>\n",
       "      <th></th>\n",
       "      <th></th>\n",
       "      <th></th>\n",
       "      <th></th>\n",
       "      <th></th>\n",
       "      <th></th>\n",
       "    </tr>\n",
       "  </thead>\n",
       "  <tbody>\n",
       "    <tr>\n",
       "      <th>2021-04-30 22:00:00</th>\n",
       "      <td>[15.56, 15.26, 14.84, 14.2, 13.18, 12.13, 12.0...</td>\n",
       "      <td>[67.0, 69.0, 71.0, 74.0, 79.0, 84.0, 85.0, 81....</td>\n",
       "      <td>[1010.0, 1010.0, 1010.0, 1010.0, 1010.0, 1010....</td>\n",
       "      <td>[0.0, 18.0, 34.0, 60.0, 57.0, 75.0, 81.0, 85.0...</td>\n",
       "      <td>[1.72, 1.5, 1.94, 1.8, 1.66, 1.28, 1.15, 0.84,...</td>\n",
       "      <td>[252.0, 242.0, 243.0, 221.0, 230.0, 223.0, 231...</td>\n",
       "      <td>[800.0, 801.0, 802.0, 803.0, 803.0, 803.0, 803...</td>\n",
       "      <td>[0.0, 0.0, 0.0, 0.0, 0.0, 0.0, 0.0, 0.0, 0.0, ...</td>\n",
       "    </tr>\n",
       "    <tr>\n",
       "      <th>2021-04-30 22:15:00</th>\n",
       "      <td>[15.56, 15.26, 14.84, 14.2, 13.18, 12.13, 12.0...</td>\n",
       "      <td>[67.0, 69.0, 71.0, 74.0, 79.0, 84.0, 85.0, 81....</td>\n",
       "      <td>[1010.0, 1010.0, 1010.0, 1010.0, 1010.0, 1010....</td>\n",
       "      <td>[0.0, 18.0, 34.0, 60.0, 57.0, 75.0, 81.0, 85.0...</td>\n",
       "      <td>[1.72, 1.5, 1.94, 1.8, 1.66, 1.28, 1.15, 0.84,...</td>\n",
       "      <td>[252.0, 242.0, 243.0, 221.0, 230.0, 223.0, 231...</td>\n",
       "      <td>[800.0, 801.0, 802.0, 803.0, 803.0, 803.0, 803...</td>\n",
       "      <td>[0.0, 0.0, 0.0, 0.0, 0.0, 0.0, 0.0, 0.0, 0.0, ...</td>\n",
       "    </tr>\n",
       "    <tr>\n",
       "      <th>2021-04-30 22:30:00</th>\n",
       "      <td>[15.36, 15.56, 15.2, 14.65, 13.78, 12.82, 12.0...</td>\n",
       "      <td>[69.0, 67.0, 69.0, 72.0, 76.0, 81.0, 85.0, 81....</td>\n",
       "      <td>[1010.0, 1010.0, 1010.0, 1010.0, 1010.0, 1010....</td>\n",
       "      <td>[18.0, 0.0, 17.0, 40.0, 43.0, 60.0, 81.0, 85.0...</td>\n",
       "      <td>[1.72, 1.5, 1.94, 1.8, 1.66, 1.28, 1.15, 0.84,...</td>\n",
       "      <td>[252.0, 242.0, 243.0, 221.0, 230.0, 223.0, 231...</td>\n",
       "      <td>[801.0, 800.0, 801.0, 802.0, 802.0, 803.0, 803...</td>\n",
       "      <td>[0.0, 0.0, 0.0, 0.0, 0.0, 0.0, 0.0, 0.0, 0.0, ...</td>\n",
       "    </tr>\n",
       "    <tr>\n",
       "      <th>2021-04-30 22:45:00</th>\n",
       "      <td>[15.28, 15.47, 15.13, 14.6, 13.74, 12.8, 12.08...</td>\n",
       "      <td>[73.0, 72.0, 73.0, 75.0, 78.0, 82.0, 85.0, 81....</td>\n",
       "      <td>[1010.0, 1010.0, 1010.0, 1010.0, 1010.0, 1010....</td>\n",
       "      <td>[18.0, 0.0, 17.0, 40.0, 43.0, 60.0, 81.0, 85.0...</td>\n",
       "      <td>[1.72, 1.5, 1.94, 1.8, 1.66, 1.28, 1.15, 0.84,...</td>\n",
       "      <td>[252.0, 242.0, 243.0, 221.0, 230.0, 223.0, 231...</td>\n",
       "      <td>[801.0, 800.0, 801.0, 802.0, 802.0, 803.0, 803...</td>\n",
       "      <td>[0.0, 0.0, 0.0, 0.0, 0.0, 0.0, 0.0, 0.0, 0.0, ...</td>\n",
       "    </tr>\n",
       "    <tr>\n",
       "      <th>2021-04-30 23:00:00</th>\n",
       "      <td>[15.48, 15.13, 14.6, 13.75, 12.8, 12.08, 13.32...</td>\n",
       "      <td>[72.0, 73.0, 75.0, 78.0, 82.0, 85.0, 81.0, 73....</td>\n",
       "      <td>[1010.0, 1010.0, 1010.0, 1010.0, 1010.0, 1010....</td>\n",
       "      <td>[0.0, 17.0, 40.0, 43.0, 60.0, 81.0, 85.0, 86.0...</td>\n",
       "      <td>[1.5, 1.94, 1.8, 1.66, 1.28, 1.15, 0.84, 0.54,...</td>\n",
       "      <td>[242.0, 243.0, 221.0, 230.0, 223.0, 231.0, 229...</td>\n",
       "      <td>[800.0, 801.0, 802.0, 802.0, 803.0, 803.0, 804...</td>\n",
       "      <td>[0.0, 0.0, 0.0, 0.0, 0.0, 0.0, 0.0, 0.0, 0.0, ...</td>\n",
       "    </tr>\n",
       "  </tbody>\n",
       "</table>\n",
       "</div>"
      ],
      "text/plain": [
       "                                                           temperature  \\\n",
       "timestamp                                                                \n",
       "2021-04-30 22:00:00  [15.56, 15.26, 14.84, 14.2, 13.18, 12.13, 12.0...   \n",
       "2021-04-30 22:15:00  [15.56, 15.26, 14.84, 14.2, 13.18, 12.13, 12.0...   \n",
       "2021-04-30 22:30:00  [15.36, 15.56, 15.2, 14.65, 13.78, 12.82, 12.0...   \n",
       "2021-04-30 22:45:00  [15.28, 15.47, 15.13, 14.6, 13.74, 12.8, 12.08...   \n",
       "2021-04-30 23:00:00  [15.48, 15.13, 14.6, 13.75, 12.8, 12.08, 13.32...   \n",
       "\n",
       "                                                              humidity  \\\n",
       "timestamp                                                                \n",
       "2021-04-30 22:00:00  [67.0, 69.0, 71.0, 74.0, 79.0, 84.0, 85.0, 81....   \n",
       "2021-04-30 22:15:00  [67.0, 69.0, 71.0, 74.0, 79.0, 84.0, 85.0, 81....   \n",
       "2021-04-30 22:30:00  [69.0, 67.0, 69.0, 72.0, 76.0, 81.0, 85.0, 81....   \n",
       "2021-04-30 22:45:00  [73.0, 72.0, 73.0, 75.0, 78.0, 82.0, 85.0, 81....   \n",
       "2021-04-30 23:00:00  [72.0, 73.0, 75.0, 78.0, 82.0, 85.0, 81.0, 73....   \n",
       "\n",
       "                                                              pressure  \\\n",
       "timestamp                                                                \n",
       "2021-04-30 22:00:00  [1010.0, 1010.0, 1010.0, 1010.0, 1010.0, 1010....   \n",
       "2021-04-30 22:15:00  [1010.0, 1010.0, 1010.0, 1010.0, 1010.0, 1010....   \n",
       "2021-04-30 22:30:00  [1010.0, 1010.0, 1010.0, 1010.0, 1010.0, 1010....   \n",
       "2021-04-30 22:45:00  [1010.0, 1010.0, 1010.0, 1010.0, 1010.0, 1010....   \n",
       "2021-04-30 23:00:00  [1010.0, 1010.0, 1010.0, 1010.0, 1010.0, 1010....   \n",
       "\n",
       "                                                           cloud_cover  \\\n",
       "timestamp                                                                \n",
       "2021-04-30 22:00:00  [0.0, 18.0, 34.0, 60.0, 57.0, 75.0, 81.0, 85.0...   \n",
       "2021-04-30 22:15:00  [0.0, 18.0, 34.0, 60.0, 57.0, 75.0, 81.0, 85.0...   \n",
       "2021-04-30 22:30:00  [18.0, 0.0, 17.0, 40.0, 43.0, 60.0, 81.0, 85.0...   \n",
       "2021-04-30 22:45:00  [18.0, 0.0, 17.0, 40.0, 43.0, 60.0, 81.0, 85.0...   \n",
       "2021-04-30 23:00:00  [0.0, 17.0, 40.0, 43.0, 60.0, 81.0, 85.0, 86.0...   \n",
       "\n",
       "                                                            wind_speed  \\\n",
       "timestamp                                                                \n",
       "2021-04-30 22:00:00  [1.72, 1.5, 1.94, 1.8, 1.66, 1.28, 1.15, 0.84,...   \n",
       "2021-04-30 22:15:00  [1.72, 1.5, 1.94, 1.8, 1.66, 1.28, 1.15, 0.84,...   \n",
       "2021-04-30 22:30:00  [1.72, 1.5, 1.94, 1.8, 1.66, 1.28, 1.15, 0.84,...   \n",
       "2021-04-30 22:45:00  [1.72, 1.5, 1.94, 1.8, 1.66, 1.28, 1.15, 0.84,...   \n",
       "2021-04-30 23:00:00  [1.5, 1.94, 1.8, 1.66, 1.28, 1.15, 0.84, 0.54,...   \n",
       "\n",
       "                                                        wind_direction  \\\n",
       "timestamp                                                                \n",
       "2021-04-30 22:00:00  [252.0, 242.0, 243.0, 221.0, 230.0, 223.0, 231...   \n",
       "2021-04-30 22:15:00  [252.0, 242.0, 243.0, 221.0, 230.0, 223.0, 231...   \n",
       "2021-04-30 22:30:00  [252.0, 242.0, 243.0, 221.0, 230.0, 223.0, 231...   \n",
       "2021-04-30 22:45:00  [252.0, 242.0, 243.0, 221.0, 230.0, 223.0, 231...   \n",
       "2021-04-30 23:00:00  [242.0, 243.0, 221.0, 230.0, 223.0, 231.0, 229...   \n",
       "\n",
       "                                                          weather_code  \\\n",
       "timestamp                                                                \n",
       "2021-04-30 22:00:00  [800.0, 801.0, 802.0, 803.0, 803.0, 803.0, 803...   \n",
       "2021-04-30 22:15:00  [800.0, 801.0, 802.0, 803.0, 803.0, 803.0, 803...   \n",
       "2021-04-30 22:30:00  [801.0, 800.0, 801.0, 802.0, 802.0, 803.0, 803...   \n",
       "2021-04-30 22:45:00  [801.0, 800.0, 801.0, 802.0, 802.0, 803.0, 803...   \n",
       "2021-04-30 23:00:00  [800.0, 801.0, 802.0, 802.0, 803.0, 803.0, 804...   \n",
       "\n",
       "                                                       poprecipitation  \n",
       "timestamp                                                               \n",
       "2021-04-30 22:00:00  [0.0, 0.0, 0.0, 0.0, 0.0, 0.0, 0.0, 0.0, 0.0, ...  \n",
       "2021-04-30 22:15:00  [0.0, 0.0, 0.0, 0.0, 0.0, 0.0, 0.0, 0.0, 0.0, ...  \n",
       "2021-04-30 22:30:00  [0.0, 0.0, 0.0, 0.0, 0.0, 0.0, 0.0, 0.0, 0.0, ...  \n",
       "2021-04-30 22:45:00  [0.0, 0.0, 0.0, 0.0, 0.0, 0.0, 0.0, 0.0, 0.0, ...  \n",
       "2021-04-30 23:00:00  [0.0, 0.0, 0.0, 0.0, 0.0, 0.0, 0.0, 0.0, 0.0, ...  "
      ]
     },
     "execution_count": 8,
     "metadata": {},
     "output_type": "execute_result"
    }
   ],
   "source": [
    "df_for.head()"
   ]
  },
  {
   "cell_type": "code",
   "execution_count": 9,
   "metadata": {},
   "outputs": [
    {
     "data": {
      "text/plain": [
       "63132"
      ]
     },
     "execution_count": 9,
     "metadata": {},
     "output_type": "execute_result"
    }
   ],
   "source": [
    "len(df_for['temperature'])"
   ]
  },
  {
   "cell_type": "code",
   "execution_count": 10,
   "metadata": {},
   "outputs": [
    {
     "name": "stdout",
     "output_type": "stream",
     "text": [
      "temperature\n",
      "timestamp\n",
      "2021-04-30 22:00:00    48\n",
      "2021-04-30 22:15:00    48\n",
      "2021-04-30 22:30:00    48\n",
      "2021-04-30 22:45:00    48\n",
      "2021-04-30 23:00:00    48\n",
      "                       ..\n",
      "2023-02-17 11:45:00    48\n",
      "2023-02-17 12:00:00    48\n",
      "2023-02-17 12:15:00    48\n",
      "2023-02-17 12:30:00    48\n",
      "2023-02-17 12:45:00    48\n",
      "Name: temperature, Length: 63132, dtype: int64\n",
      "\n",
      "\n",
      "humidity\n",
      "timestamp\n",
      "2021-04-30 22:00:00    48\n",
      "2021-04-30 22:15:00    48\n",
      "2021-04-30 22:30:00    48\n",
      "2021-04-30 22:45:00    48\n",
      "2021-04-30 23:00:00    48\n",
      "                       ..\n",
      "2023-02-17 11:45:00    48\n",
      "2023-02-17 12:00:00    48\n",
      "2023-02-17 12:15:00    48\n",
      "2023-02-17 12:30:00    48\n",
      "2023-02-17 12:45:00    48\n",
      "Name: humidity, Length: 63132, dtype: int64\n",
      "\n",
      "\n",
      "pressure\n",
      "timestamp\n",
      "2021-04-30 22:00:00    48\n",
      "2021-04-30 22:15:00    48\n",
      "2021-04-30 22:30:00    48\n",
      "2021-04-30 22:45:00    48\n",
      "2021-04-30 23:00:00    48\n",
      "                       ..\n",
      "2023-02-17 11:45:00    48\n",
      "2023-02-17 12:00:00    48\n",
      "2023-02-17 12:15:00    48\n",
      "2023-02-17 12:30:00    48\n",
      "2023-02-17 12:45:00    48\n",
      "Name: pressure, Length: 63132, dtype: int64\n",
      "\n",
      "\n",
      "cloud_cover\n",
      "timestamp\n",
      "2021-04-30 22:00:00    48\n",
      "2021-04-30 22:15:00    48\n",
      "2021-04-30 22:30:00    48\n",
      "2021-04-30 22:45:00    48\n",
      "2021-04-30 23:00:00    48\n",
      "                       ..\n",
      "2023-02-17 11:45:00    48\n",
      "2023-02-17 12:00:00    48\n",
      "2023-02-17 12:15:00    48\n",
      "2023-02-17 12:30:00    48\n",
      "2023-02-17 12:45:00    48\n",
      "Name: cloud_cover, Length: 63132, dtype: int64\n",
      "\n",
      "\n",
      "wind_speed\n",
      "timestamp\n",
      "2021-04-30 22:00:00    48\n",
      "2021-04-30 22:15:00    48\n",
      "2021-04-30 22:30:00    48\n",
      "2021-04-30 22:45:00    48\n",
      "2021-04-30 23:00:00    48\n",
      "                       ..\n",
      "2023-02-17 11:45:00    48\n",
      "2023-02-17 12:00:00    48\n",
      "2023-02-17 12:15:00    48\n",
      "2023-02-17 12:30:00    48\n",
      "2023-02-17 12:45:00    48\n",
      "Name: wind_speed, Length: 63132, dtype: int64\n",
      "\n",
      "\n",
      "wind_direction\n",
      "timestamp\n",
      "2021-04-30 22:00:00    48\n",
      "2021-04-30 22:15:00    48\n",
      "2021-04-30 22:30:00    48\n",
      "2021-04-30 22:45:00    48\n",
      "2021-04-30 23:00:00    48\n",
      "                       ..\n",
      "2023-02-17 11:45:00    48\n",
      "2023-02-17 12:00:00    48\n",
      "2023-02-17 12:15:00    48\n",
      "2023-02-17 12:30:00    48\n",
      "2023-02-17 12:45:00    48\n",
      "Name: wind_direction, Length: 63132, dtype: int64\n",
      "\n",
      "\n",
      "weather_code\n",
      "timestamp\n",
      "2021-04-30 22:00:00    96\n",
      "2021-04-30 22:15:00    96\n",
      "2021-04-30 22:30:00    96\n",
      "2021-04-30 22:45:00    96\n",
      "2021-04-30 23:00:00    96\n",
      "                       ..\n",
      "2023-02-17 11:45:00    96\n",
      "2023-02-17 12:00:00    96\n",
      "2023-02-17 12:15:00    96\n",
      "2023-02-17 12:30:00    96\n",
      "2023-02-17 12:45:00    96\n",
      "Name: weather_code, Length: 63132, dtype: int64\n",
      "\n",
      "\n",
      "poprecipitation\n",
      "timestamp\n",
      "2021-04-30 22:00:00    48\n",
      "2021-04-30 22:15:00    48\n",
      "2021-04-30 22:30:00    48\n",
      "2021-04-30 22:45:00    48\n",
      "2021-04-30 23:00:00    48\n",
      "                       ..\n",
      "2023-02-17 11:45:00    48\n",
      "2023-02-17 12:00:00    48\n",
      "2023-02-17 12:15:00    48\n",
      "2023-02-17 12:30:00    48\n",
      "2023-02-17 12:45:00    48\n",
      "Name: poprecipitation, Length: 63132, dtype: int64\n",
      "\n",
      "\n"
     ]
    }
   ],
   "source": [
    "for column in df_for.columns:\n",
    "    print(column)\n",
    "    print(get_length_of_list(df_for, column))\n",
    "    print(\"\\n\")"
   ]
  },
  {
   "cell_type": "code",
   "execution_count": 11,
   "metadata": {},
   "outputs": [
    {
     "name": "stdout",
     "output_type": "stream",
     "text": [
      "temperature [48  0]\n",
      "humidity [48  0]\n",
      "pressure [48  0]\n",
      "cloud_cover [48  0]\n",
      "wind_speed [48  0]\n",
      "wind_direction [48  0]\n",
      "weather_code [96  0]\n",
      "poprecipitation [48  0]\n"
     ]
    }
   ],
   "source": [
    "for column in df_for.columns:\n",
    "    print(column, get_length_of_list(df_for, column).unique())"
   ]
  },
  {
   "cell_type": "markdown",
   "metadata": {},
   "source": [
    "## REDUCE TO 3 DAYS"
   ]
  },
  {
   "cell_type": "code",
   "execution_count": 12,
   "metadata": {},
   "outputs": [],
   "source": [
    "df_for_reduced = reduce_cells_for_all_columns(df_for, 42)"
   ]
  },
  {
   "cell_type": "code",
   "execution_count": 13,
   "metadata": {},
   "outputs": [
    {
     "name": "stdout",
     "output_type": "stream",
     "text": [
      "temperature [6 0]\n",
      "humidity [6 0]\n",
      "pressure [6 0]\n",
      "cloud_cover [6 0]\n",
      "wind_speed [6 0]\n",
      "wind_direction [6 0]\n",
      "weather_code [54  0]\n",
      "poprecipitation [6 0]\n"
     ]
    }
   ],
   "source": [
    "for column in df_for.columns:\n",
    "    print(column, get_length_of_list(df_for_reduced, column).unique())"
   ]
  },
  {
   "cell_type": "markdown",
   "metadata": {},
   "source": [
    "## Memory Reducer"
   ]
  },
  {
   "cell_type": "code",
   "execution_count": 14,
   "metadata": {},
   "outputs": [],
   "source": [
    "## Memory Reducer\n",
    "# :df pandas dataframe to reduce size             # type: pd.DataFrame()\n",
    "# :verbose                                        # type: bool\n",
    "def reduce_mem_usage(df, verbose=True):\n",
    "    numerics = ['int16', 'int32', 'int64', 'float16', 'float32', 'float64']\n",
    "    start_mem = df.memory_usage().sum() / 1024**2\n",
    "    for col in df.columns:\n",
    "        col_type = df[col].dtypes\n",
    "        if col_type in numerics:\n",
    "            c_min = df[col].min()\n",
    "            c_max = df[col].max()\n",
    "            if str(col_type)[:3] == 'int':\n",
    "                if c_min > np.iinfo(np.int8).min and c_max < np.iinfo(np.int8).max:\n",
    "                    df[col] = df[col].astype(np.int8)\n",
    "                elif c_min > np.iinfo(np.int16).min and c_max < np.iinfo(np.int16).max:\n",
    "                    df[col] = df[col].astype(np.int16)\n",
    "                elif c_min > np.iinfo(np.int32).min and c_max < np.iinfo(np.int32).max:\n",
    "                    df[col] = df[col].astype(np.int32)\n",
    "                elif c_min > np.iinfo(np.int64).min and c_max < np.iinfo(np.int64).max:\n",
    "                    df[col] = df[col].astype(np.int64)\n",
    "            else:\n",
    "                if c_min > np.finfo(np.float16).min and c_max < np.finfo(np.float16).max:\n",
    "                    df[col] = df[col].astype(np.float16)\n",
    "                elif c_min > np.finfo(np.float32).min and c_max < np.finfo(np.float32).max:\n",
    "                    df[col] = df[col].astype(np.float32)\n",
    "                else:\n",
    "                    df[col] = df[col].astype(np.float64)\n",
    "    end_mem = df.memory_usage().sum() / 1024**2\n",
    "    if verbose: print('Mem. usage decreased to {:5.2f} Mb ({:.1f}% reduction)'.format(end_mem, 100 * (start_mem - end_mem) / start_mem))\n",
    "    return df"
   ]
  }
 ],
 "metadata": {
  "kernelspec": {
   "display_name": "Python 3 (ipykernel)",
   "language": "python",
   "name": "python3"
  },
  "language_info": {
   "codemirror_mode": {
    "name": "ipython",
    "version": 3
   },
   "file_extension": ".py",
   "mimetype": "text/x-python",
   "name": "python",
   "nbconvert_exporter": "python",
   "pygments_lexer": "ipython3",
   "version": "3.11.6"
  }
 },
 "nbformat": 4,
 "nbformat_minor": 4
}
