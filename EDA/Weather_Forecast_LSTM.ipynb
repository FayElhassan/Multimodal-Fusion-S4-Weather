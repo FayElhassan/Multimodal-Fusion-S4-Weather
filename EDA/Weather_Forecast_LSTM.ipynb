{
  "cells": [
    {
      "cell_type": "markdown",
      "metadata": {
        "id": "zdb2j0gt6aok"
      },
      "source": [
        "# Imports "
      ]
    },
    {
      "cell_type": "code",
      "execution_count": null,
      "metadata": {
        "id": "3DTPlx7H6Chw"
      },
      "outputs": [],
      "source": [
        "import pandas as pd\n",
        "import numpy as np \n",
        "import time \n",
        "import datetime \n",
        "import matplotlib.pyplot as plt \n",
        "%matplotlib inline  \n",
        "import plotly.express as px\n",
        "import plotly.graph_objects as go \n",
        "from sklearn.preprocessing import StandardScaler"
      ]
    },
    {
      "cell_type": "markdown",
      "metadata": {
        "id": "snxznTO76eD8"
      },
      "source": [
        "# Reading Dataset "
      ]
    },
    {
      "cell_type": "code",
      "execution_count": null,
      "metadata": {
        "colab": {
          "base_uri": "https://localhost:8080/",
          "height": 254
        },
        "id": "I9IQjcbX6okY",
        "outputId": "e3a9c08f-c367-4c08-89cf-9c548dc54c1b"
      },
      "outputs": [],
      "source": [
        "orig_df = pd.read_csv('/Users/faymajidelhassan/Downloads/Master project /CODE/EDA/cleaned_measurements_data.csv') \n",
        "df = orig_df.copy() \n",
        "print(f'Size of the dataset: {df.shape} \\n')  \n",
        "print() \n",
        "display(df.head(5))"
      ]
    },
    {
      "cell_type": "markdown",
      "metadata": {
        "id": "XvB3wqUA7foc"
      },
      "source": [
        "# Cleaning the data "
      ]
    },
    {
      "cell_type": "markdown",
      "metadata": {
        "id": "0TpRtkRI9D5l"
      },
      "source": [
        "### Renaming he columns "
      ]
    },
    {
      "cell_type": "code",
      "execution_count": null,
      "metadata": {
        "id": "S1JDifCV9JL_"
      },
      "outputs": [],
      "source": [
        "# df.columns = ['Date' , 'Temperature', 'Pressure' , 'Humidity']"
      ]
    },
    {
      "cell_type": "markdown",
      "metadata": {
        "id": "cR9hNdSz7iBB"
      },
      "source": [
        "### Removing possible outliers"
      ]
    },
    {
      "cell_type": "code",
      "execution_count": null,
      "metadata": {
        "colab": {
          "base_uri": "https://localhost:8080/",
          "height": 295
        },
        "id": "AX9GYIJR7m7v",
        "outputId": "08908c8b-63d3-407c-b399-1915e57ad627"
      },
      "outputs": [],
      "source": [
        "df.describe()"
      ]
    },
    {
      "cell_type": "code",
      "execution_count": null,
      "metadata": {
        "colab": {
          "base_uri": "https://localhost:8080/",
          "height": 203
        },
        "id": "Ttf0n5vn8vrr",
        "outputId": "4217ac0b-bb37-4cca-dd1b-46eff08b3c0c"
      },
      "outputs": [],
      "source": [
        "# Compute quantiles for numeric columns only\n",
        "display(df.select_dtypes(include='number').quantile([0, 0.25, 0.5, 0.75, 1], axis=0))\n"
      ]
    },
    {
      "cell_type": "code",
      "execution_count": null,
      "metadata": {
        "colab": {
          "base_uri": "https://localhost:8080/"
        },
        "id": "2WhsSK-rRs9a",
        "outputId": "922c0fc8-4b42-404a-8e9e-5d6292d46a96"
      },
      "outputs": [],
      "source": [
        "df.shape"
      ]
    },
    {
      "cell_type": "code",
      "execution_count": null,
      "metadata": {
        "id": "iQ3Xn4UD9zjN"
      },
      "outputs": [],
      "source": [
        "# df = df[(df['humidity'] >= 39) & (df['humidity'] <= 78)]\n",
        "# df = df[(df['pressure'] >= 1002.0) & (df['pressure'] <= 1014.0)]\n",
        "# df = df[(df['temperature'] >= 19.0) & (df['temperature'] <= 32.0)]"
      ]
    },
    {
      "cell_type": "code",
      "execution_count": null,
      "metadata": {
        "colab": {
          "base_uri": "https://localhost:8080/"
        },
        "id": "V9KDNe9oRv4a",
        "outputId": "69cedb2c-15b1-49fd-9af5-1befd7b7e612"
      },
      "outputs": [],
      "source": [
        "df.shape"
      ]
    },
    {
      "cell_type": "code",
      "execution_count": null,
      "metadata": {
        "colab": {
          "base_uri": "https://localhost:8080/"
        },
        "id": "8iugV0IR-zEz",
        "outputId": "6611ca1c-741e-46ed-9f60-090db3d5a86e"
      },
      "outputs": [],
      "source": [
        "max_temp = np.max(df['temperature'])\n",
        "max_pres = np.max(df['pressure'])\n",
        "max_humid = np.max(df['humidity'])\n",
        "\n",
        "min_temp = np.min(df['temperature'])\n",
        "min_pres = np.min(df['pressure'])\n",
        "min_humid = np.min(df['humidity'])\n",
        "\n",
        "print(f'Max Temp : {max_temp}')\n",
        "print(f'Max Pressure : {max_pres}')\n",
        "print(f'Max Humidity : {max_humid}')\n",
        "\n",
        "print(f'Min Temp : {min_temp}')\n",
        "print(f'Min Pressure : {min_pres}')\n",
        "print(f'Min Humidity : {min_humid}')"
      ]
    },
    {
      "cell_type": "markdown",
      "metadata": {
        "id": "i00DKjUoBL8P"
      },
      "source": [
        "### Removing Missing values "
      ]
    },
    {
      "cell_type": "code",
      "execution_count": null,
      "metadata": {
        "colab": {
          "base_uri": "https://localhost:8080/"
        },
        "id": "0P34l1guA4om",
        "outputId": "e8b8e21e-3e03-4710-aa86-0c976953e3fc"
      },
      "outputs": [],
      "source": [
        "df.isnull().sum()"
      ]
    },
    {
      "cell_type": "code",
      "execution_count": null,
      "metadata": {
        "colab": {
          "base_uri": "https://localhost:8080/"
        },
        "id": "oI_s73h9BkZd",
        "outputId": "0f2a2407-7eb4-4475-e1f6-a103a95dfaeb"
      },
      "outputs": [],
      "source": [
        "print('Dataframe shape : {}'.format(df.shape))"
      ]
    },
    {
      "cell_type": "markdown",
      "metadata": {
        "id": "xLWLGuxsL35Z"
      },
      "source": [
        "### Resetting index "
      ]
    },
    {
      "cell_type": "code",
      "execution_count": null,
      "metadata": {
        "id": "bknXlWNBCRuc"
      },
      "outputs": [],
      "source": [
        "idx = pd.date_range('2018-04-17 05:00:00', periods=54034 , freq='1h')"
      ]
    },
    {
      "cell_type": "code",
      "execution_count": null,
      "metadata": {
        "id": "GSmduIb2Dsmw"
      },
      "outputs": [],
      "source": [
        "df = df.set_index(idx)\n",
        "df.index.name = 'timestamp' \n",
        "date_column = df['timestamp'] \n",
        "df = df.drop(columns = ['timestamp','global_irradiance','direct_irradiance','diffuse_irradiance','precipitation'] , axis = 1)"
      ]
    },
    {
      "cell_type": "code",
      "execution_count": null,
      "metadata": {
        "colab": {
          "base_uri": "https://localhost:8080/",
          "height": 234
        },
        "id": "_-eihThtLuU2",
        "outputId": "c283a05c-7752-419b-d5fa-91375c2445df"
      },
      "outputs": [],
      "source": [
        "df.head()"
      ]
    },
    {
      "cell_type": "code",
      "execution_count": null,
      "metadata": {
        "colab": {
          "base_uri": "https://localhost:8080/"
        },
        "id": "2ygvTvCnjxF-",
        "outputId": "684da0a2-5c73-421e-a69f-a2691dcb49e7"
      },
      "outputs": [],
      "source": [
        "df_array = np.array(df) \n",
        "df_array"
      ]
    },
    {
      "cell_type": "markdown",
      "metadata": {
        "id": "r-uFzsRpnW5x"
      },
      "source": [
        "### Reducing size for faster computation"
      ]
    },
    {
      "cell_type": "code",
      "execution_count": null,
      "metadata": {
        "colab": {
          "base_uri": "https://localhost:8080/"
        },
        "id": "wG4dv42hnWc8",
        "outputId": "b87cba05-2f53-4c1d-bacf-bd56161a96fe"
      },
      "outputs": [],
      "source": [
        "df_array = df_array[:4000]\n",
        "df_array.shape "
      ]
    },
    {
      "cell_type": "markdown",
      "metadata": {
        "id": "NzpfxVxDkTVu"
      },
      "source": [
        "### Scaling features "
      ]
    },
    {
      "cell_type": "code",
      "execution_count": null,
      "metadata": {
        "id": "kZ1VGjK3j_07"
      },
      "outputs": [],
      "source": [
        "scaler = StandardScaler() \n",
        "scaled_df_array = scaler.fit_transform(df_array)"
      ]
    },
    {
      "cell_type": "code",
      "execution_count": null,
      "metadata": {
        "colab": {
          "base_uri": "https://localhost:8080/"
        },
        "id": "Tga7xrH1kchd",
        "outputId": "71c85f8f-3b20-46fc-b49f-d6e1a4c1c2b6"
      },
      "outputs": [],
      "source": [
        "scaled_df_array[:10]"
      ]
    },
    {
      "cell_type": "markdown",
      "metadata": {
        "id": "YSB_PsX3khMp"
      },
      "source": [
        "### Segregating feaures "
      ]
    },
    {
      "cell_type": "code",
      "execution_count": null,
      "metadata": {
        "colab": {
          "base_uri": "https://localhost:8080/"
        },
        "id": "LaZDm_8lkdtw",
        "outputId": "dd2b7c1e-7720-4aec-fe46-4976b4cd9219"
      },
      "outputs": [],
      "source": [
        "  sha = scaled_df_array[:, 0].reshape((-1, 1))\n",
        "  spa = scaled_df_array[:, 1].reshape((-1, 1))\n",
        "  sta = scaled_df_array[:, 2].reshape((-1, 1))\n",
        "\n",
        "  sha.shape , spa.shape , sta.shape "
      ]
    },
    {
      "cell_type": "markdown",
      "metadata": {
        "id": "rzjYn0b9n-tV"
      },
      "source": [
        "# Preparing training and test set"
      ]
    },
    {
      "cell_type": "markdown",
      "metadata": {
        "id": "vlN0368Bvoo-"
      },
      "source": [
        "### Preparing training set"
      ]
    },
    {
      "cell_type": "code",
      "execution_count": null,
      "metadata": {
        "colab": {
          "base_uri": "https://localhost:8080/"
        },
        "id": "T23Tys3Ln-Tr",
        "outputId": "28728ef8-88ee-4b09-ce29-b1763272c799"
      },
      "outputs": [],
      "source": [
        "train_data_len = int(np.ceil(len(df_array)* 0.95))\n",
        "train_data_len"
      ]
    },
    {
      "cell_type": "code",
      "execution_count": null,
      "metadata": {
        "colab": {
          "base_uri": "https://localhost:8080/"
        },
        "id": "CPSbyViotTOV",
        "outputId": "2496098f-cd2a-467c-de52-183da27fe205"
      },
      "outputs": [],
      "source": [
        "x_train = []\n",
        "y_train_temp = [] \n",
        "y_train_humidity = [] \n",
        "y_train_pressure = [] \n",
        "\n",
        "for i in range(48 , train_data_len) : \n",
        "  temp1 = sha[i - 48 : i, 0] \n",
        "  temp2 = spa[i - 48 : i, 0] \n",
        "  temp3 = sta[i - 48 : i, 0] \n",
        "  temp4 = np.concatenate((temp1 , temp2 , temp3))\n",
        "\n",
        "  x_train.append(temp4) \n",
        "  y_train_temp.append(sta[i, 0])\n",
        "  y_train_humidity.append(sha[i, 0])\n",
        "  y_train_pressure.append(spa[i, 0])\n",
        "\n",
        "  if i <= 49 : \n",
        "    print(x_train , np.array(x_train).shape)\n",
        "    print()\n",
        "    print(y_train_temp , y_train_humidity, y_train_pressure)\n",
        "    print()\n",
        "   "
      ]
    },
    {
      "cell_type": "code",
      "execution_count": null,
      "metadata": {
        "colab": {
          "base_uri": "https://localhost:8080/"
        },
        "id": "EJX1sPdCvvlI",
        "outputId": "26bd34c0-5b4f-405d-e2ea-fb7a59525b2a"
      },
      "outputs": [],
      "source": [
        "np.array(x_train).shape , np.array(y_train_humidity).shape, np.array(y_train_pressure).shape , np.array(y_train_temp).shape"
      ]
    },
    {
      "cell_type": "code",
      "execution_count": null,
      "metadata": {
        "id": "ubFzKR5VwTcV"
      },
      "outputs": [],
      "source": [
        "x_train = np.array(x_train).reshape((-1 , 144 , 1))\n",
        "y_train_humidity = np.array(y_train_humidity)\n",
        "y_train_pressure = np.array(y_train_pressure)\n",
        "y_train_temp = np.array(y_train_temp)"
      ]
    },
    {
      "cell_type": "markdown",
      "metadata": {
        "id": "i9jmG_sFvsFO"
      },
      "source": [
        "### Preparing testing set"
      ]
    },
    {
      "cell_type": "code",
      "execution_count": null,
      "metadata": {
        "colab": {
          "base_uri": "https://localhost:8080/"
        },
        "id": "Q7TRUtSeyw4N",
        "outputId": "1ed378e2-d6ba-4f49-fbe4-48dba750f148"
      },
      "outputs": [],
      "source": [
        "test_data = sta[train_data_len - 48 : , :]\n",
        "test_data.shape"
      ]
    },
    {
      "cell_type": "code",
      "execution_count": null,
      "metadata": {
        "colab": {
          "base_uri": "https://localhost:8080/"
        },
        "id": "QeQkDpQAvGqx",
        "outputId": "3729a379-20a6-44a2-d9ca-73db59d719c8"
      },
      "outputs": [],
      "source": [
        "x_test = []\n",
        "\n",
        "y_test_temp = sta[train_data_len : , :] \n",
        "y_test_humidity = sha[train_data_len : , :]\n",
        "y_test_pressure = spa[train_data_len : , :]\n",
        "\n",
        "for i in range (48 , len(test_data)):\n",
        "  temp1 = sha[train_data_len - 48 + i - 48 : train_data_len - 48 + i ]\n",
        "  temp2 = spa[train_data_len - 48 + i - 48 : train_data_len - 48 + i ]\n",
        "  temp3 = sta[train_data_len - 48 + i - 48 : train_data_len - 48 + i ]\n",
        "\n",
        "  temp4 = np.concatenate((temp1 , temp2 , temp3))\n",
        "  x_test.append(temp4)\n",
        "  \n",
        "  if  i<=49:\n",
        "    print(x_test , np.array(x_test).shape)\n",
        "    print()\n",
        "    print(y_test_temp , y_test_humidity, y_test_pressure)\n",
        "    print()\n",
        "    "
      ]
    },
    {
      "cell_type": "code",
      "execution_count": null,
      "metadata": {
        "id": "0mbfM4N5zlCF"
      },
      "outputs": [],
      "source": [
        "x_test = np.array(x_test)\n",
        "\n",
        "y_test_humidity = np.array(y_test_humidity)\n",
        "y_test_pressure = np.array(y_test_pressure)\n",
        "y_test_temp = np.array(y_test_temp)"
      ]
    },
    {
      "cell_type": "code",
      "execution_count": null,
      "metadata": {
        "colab": {
          "base_uri": "https://localhost:8080/"
        },
        "id": "fh5CgdQ-z5Ot",
        "outputId": "59c71aa9-80c9-4e2a-875d-8ef770640c38"
      },
      "outputs": [],
      "source": [
        "x_test.shape , y_test_humidity.shape , y_test_pressure.shape , y_test_temp.shape"
      ]
    },
    {
      "cell_type": "code",
      "execution_count": null,
      "metadata": {
        "colab": {
          "base_uri": "https://localhost:8080/"
        },
        "id": "4EtHWtTM0G7G",
        "outputId": "4c1ea862-3169-4a94-9bbd-ba4a2df9051b"
      },
      "outputs": [],
      "source": [
        "print(x_train.shape )\n",
        "x_test.shape"
      ]
    },
    {
      "cell_type": "code",
      "execution_count": null,
      "metadata": {},
      "outputs": [],
      "source": [
        "# # Preparing training and test set for all parameters\n",
        "\n",
        "# # Preparing training set for all parameters\n",
        "# x_train = []\n",
        "# y_train_temp = [] \n",
        "# y_train_humidity = [] \n",
        "# y_train_pressure = [] \n",
        "\n",
        "# for i in range(48 , train_data_len) : \n",
        "#     temp1 = scaled_df_array[i - 48 : i, 0]  # Temperature\n",
        "#     temp2 = scaled_df_array[i - 48 : i, 1]  # Pressure\n",
        "#     temp3 = scaled_df_array[i - 48 : i, 2]  # Humidity\n",
        "\n",
        "#     # Concatenate temperature, pressure, and humidity values\n",
        "#     temp4 = np.concatenate((temp1 , temp2 , temp3))\n",
        "\n",
        "#     x_train.append(temp4) \n",
        "#     y_train_temp.append(scaled_df_array[i, 0])   # Temperature target\n",
        "#     y_train_humidity.append(scaled_df_array[i, 1])  # Humidity target\n",
        "#     y_train_pressure.append(scaled_df_array[i, 2])  # Pressure target\n",
        "\n",
        "# # Reshape the features and targets\n",
        "# x_train = np.array(x_train).reshape((-1 , 144 , 3))\n",
        "# y_train_humidity = np.array(y_train_humidity)\n",
        "# y_train_pressure = np.array(y_train_pressure)\n",
        "# y_train_temp = np.array(y_train_temp)\n",
        "\n",
        "# # Preparing testing set for all parameters\n",
        "# x_test = []\n",
        "\n",
        "# for i in range (48 , len(test_data)):\n",
        "#     temp1 = sha[train_data_len - 48 + i - 48 : train_data_len - 48 + i ]\n",
        "#     temp2 = spa[train_data_len - 48 + i - 48 : train_data_len - 48 + i ]\n",
        "#     temp3 = sta[train_data_len - 48 + i - 48 : train_data_len - 48 + i ]\n",
        "\n",
        "#     temp4 = np.concatenate((temp1 , temp2 , temp3))\n",
        "#     x_test.append(temp4)\n",
        "\n",
        "# x_test = np.array(x_test)\n",
        "\n",
        "# # Ensure the shape of the data\n",
        "# print(x_train.shape , y_train_temp.shape , y_train_humidity.shape , y_train_pressure.shape)\n",
        "# print(x_test.shape)\n",
        "\n",
        "# # Define separate models for temperature, pressure, and humidity\n"
      ]
    },
    {
      "cell_type": "markdown",
      "metadata": {
        "id": "Bg_mRWSb3tE8"
      },
      "source": [
        "# Creating model "
      ]
    },
    {
      "cell_type": "code",
      "execution_count": null,
      "metadata": {
        "id": "4x6RCsYK1MZG"
      },
      "outputs": [],
      "source": [
        "import keras\n",
        "from keras.models import Sequential\n",
        "from keras.layers import LSTM  , Dense\n",
        "from keras.callbacks import EarlyStopping"
      ]
    },
    {
      "cell_type": "markdown",
      "metadata": {
        "id": "6dZO_VM74gbq"
      },
      "source": [
        "### Temperature model"
      ]
    },
    {
      "cell_type": "code",
      "execution_count": null,
      "metadata": {
        "id": "BPxGi0cr3yIv"
      },
      "outputs": [],
      "source": [
        "temperature_model = Sequential()"
      ]
    },
    {
      "cell_type": "code",
      "execution_count": null,
      "metadata": {
        "colab": {
          "base_uri": "https://localhost:8080/"
        },
        "id": "pHnkFMVy33US",
        "outputId": "5e74442a-32c3-402e-858d-0d0280fc8df1"
      },
      "outputs": [],
      "source": [
        "temperature_model.add(LSTM(128 , return_sequences = True , input_shape = (x_train.shape[1] , 1) ))\n",
        "temperature_model.add(LSTM(128 , return_sequences = False))\n",
        "temperature_model.add(Dense(64 , activation = \"relu\"))\n",
        "temperature_model.add(Dense(1))\n",
        "temperature_model.summary()"
      ]
    },
    {
      "cell_type": "code",
      "execution_count": null,
      "metadata": {
        "colab": {
          "base_uri": "https://localhost:8080/",
          "height": 533
        },
        "id": "EuNkKexyTWFC",
        "outputId": "9bfeb5b6-4deb-49a0-f9be-31cec1e3e9fc"
      },
      "outputs": [],
      "source": [
        "# from tensorflow.keras.utils import plot_model\n",
        "# plot_model(temperature_model , show_shapes = True )"
      ]
    },
    {
      "cell_type": "code",
      "execution_count": null,
      "metadata": {
        "colab": {
          "base_uri": "https://localhost:8080/"
        },
        "id": "eNz9BzQJ4Xyp",
        "outputId": "80fdaa1d-dfd6-4879-c0ce-2ab1ab068e8a"
      },
      "outputs": [],
      "source": [
        "temperature_model.compile(optimizer = \"adam\" , loss=\"mean_squared_error\")\n",
        "temperature_model"
      ]
    },
    {
      "cell_type": "markdown",
      "metadata": {
        "id": "VGUQ8VdS42yx"
      },
      "source": [
        "#### Training"
      ]
    },
    {
      "cell_type": "code",
      "execution_count": null,
      "metadata": {
        "id": "ABQGvdba4uxH"
      },
      "outputs": [],
      "source": [
        "callbacks = EarlyStopping(\n",
        "    patience = 5 , \n",
        "    restore_best_weights = True , \n",
        "    monitor = 'val_loss'\n",
        ")"
      ]
    },
    {
      "cell_type": "code",
      "execution_count": null,
      "metadata": {
        "colab": {
          "base_uri": "https://localhost:8080/"
        },
        "id": "5oKsdIBx5Oph",
        "outputId": "8c3880cf-6b3f-4ded-a19b-2ef45bbd0193"
      },
      "outputs": [],
      "source": [
        "history = temperature_model.fit(\n",
        "    x_train , \n",
        "    y_train_temp , \n",
        "    batch_size = 256 , \n",
        "    epochs = 75 ,\n",
        "    verbose = 1 , \n",
        "    validation_split = 0.2 , \n",
        "    callbacks = [callbacks]\n",
        ")"
      ]
    },
    {
      "cell_type": "code",
      "execution_count": null,
      "metadata": {
        "colab": {
          "base_uri": "https://localhost:8080/"
        },
        "id": "q5eyGWzz66Hr",
        "outputId": "4c8c89c0-5e9a-4c4a-bd19-b27ff43f8078"
      },
      "outputs": [],
      "source": [
        "yp = temperature_model.predict(x_test)\n",
        "print(yp[:5])\n",
        "\n",
        "# z = np.zeros(800).reshape((400,2))\n",
        "# yp = np.concatenate((yp_copy , z) , axis = 1)\n",
        "# print()\n",
        "# print(yp[:5])\n",
        "\n",
        "# ypi = scaler.inverse_transform(yp)\n",
        "# print()\n",
        "# print(ypi[:5])\n",
        "\n",
        "\n",
        "# ypn = ypi[: , 0]\n",
        "# print()\n",
        "# print(ypn[:5])\n",
        "\n",
        "# rmse \n",
        "rmse = np.sqrt(np.mean((yp - y_test_temp)**2))\n",
        "print(f'RMSE: {rmse}')"
      ]
    },
    {
      "cell_type": "code",
      "execution_count": null,
      "metadata": {
        "colab": {
          "base_uri": "https://localhost:8080/",
          "height": 391
        },
        "id": "QVbG5ngd7_Qf",
        "outputId": "a82b2ee3-7086-460b-e9b5-0c5a727865da"
      },
      "outputs": [],
      "source": [
        "plt.rcParams.update({'figure.figsize': (15,6)})\n",
        "plt.plot(y_test_temp[:100])\n",
        "plt.plot(yp[:100] , color = \"red\")"
      ]
    },
    {
      "cell_type": "markdown",
      "metadata": {},
      "source": [
        "# SARIMAX"
      ]
    },
    {
      "cell_type": "code",
      "execution_count": null,
      "metadata": {},
      "outputs": [],
      "source": [
        "from statsmodels.tsa.statespace.sarimax import SARIMAX"
      ]
    },
    {
      "cell_type": "code",
      "execution_count": null,
      "metadata": {
        "id": "eGB0QavqUHWD"
      },
      "outputs": [],
      "source": [
        "\n",
        "\n",
        "# Assuming you want to use temperature data from x_train\n",
        "endog = x_train[:, :, 0].reshape(-1)  # Selecting the first column (temperature) as endogenous variable and reshaping to 1D\n",
        "\n",
        "# Define SARIMAX model\n",
        "model = SARIMAX(endog, order=(0, 1, 3), seasonal_order=(0, 1, 1, 12))\n",
        "\n",
        "# Fit the model\n",
        "# results = model.fit()\n",
        "# results = model.fit(maxiter=1000)  # Increase maxiter to 1000 (or higher)\n",
        "results = model.fit(method='powell')  # Try using the 'powell' method\n",
        "\n",
        "# Print summary\n",
        "print(results.summary())\n"
      ]
    },
    {
      "cell_type": "code",
      "execution_count": null,
      "metadata": {},
      "outputs": [],
      "source": [
        "# Predicting on the test dataset\n",
        "test_predictions = results.predict(start=len(x_train), end=len(x_train)+len(x_test)-1)\n",
        "\n",
        "# Plotting test predictions and actual test values\n",
        "plt.figure(figsize=(10, 6))\n",
        "plt.plot(test_predictions, label='Test Predictions')\n",
        "plt.plot(y_test_temp, label='Actual Test Values')\n",
        "plt.title('SARIMAX Model Test Predictions vs Actual Test Values')\n",
        "plt.xlabel('Time')\n",
        "plt.ylabel('Temperature')\n",
        "plt.legend()\n",
        "plt.show()\n"
      ]
    },
    {
      "cell_type": "code",
      "execution_count": null,
      "metadata": {},
      "outputs": [],
      "source": [
        "from sklearn.metrics import mean_squared_error\n",
        "RMSE=np.sqrt(mean_squared_error(test_predictions,y_test_temp))\n",
        "# Calculate RMSE\n",
        "\n",
        "\n",
        "print(f'Root Mean Squared Error (RMSE): {RMSE}')"
      ]
    },
    {
      "cell_type": "code",
      "execution_count": null,
      "metadata": {},
      "outputs": [],
      "source": []
    }
  ],
  "metadata": {
    "accelerator": "GPU",
    "colab": {
      "collapsed_sections": [
        "z6IUrfb2Wm1X"
      ],
      "provenance": []
    },
    "kernelspec": {
      "display_name": "Python 3",
      "name": "python3"
    },
    "language_info": {
      "codemirror_mode": {
        "name": "ipython",
        "version": 3
      },
      "file_extension": ".py",
      "mimetype": "text/x-python",
      "name": "python",
      "nbconvert_exporter": "python",
      "pygments_lexer": "ipython3",
      "version": "3.10.12"
    }
  },
  "nbformat": 4,
  "nbformat_minor": 0
}
