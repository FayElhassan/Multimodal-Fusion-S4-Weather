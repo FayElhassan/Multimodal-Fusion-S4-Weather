{
  "cells": [
    {
      "cell_type": "markdown",
      "metadata": {
        "colab_type": "text",
        "id": "bcfho8jZh2sD"
      },
      "source": [
        "### Time Series Forecasting using LSTM"
      ]
    },
    {
      "cell_type": "code",
      "execution_count": null,
      "metadata": {
        "colab": {},
        "colab_type": "code",
        "id": "OabeeefPilgR"
      },
      "outputs": [],
      "source": [
        "# Importing libraries\n",
        "import tensorflow as tf\n",
        "import matplotlib.pyplot as plt\n",
        "import matplotlib as mpl\n",
        "import pandas as pd\n",
        "import numpy as np\n",
        "import os\n",
        "from convert_columns_to_floats import *\n",
        "\n",
        "mpl.rcParams['figure.figsize'] = (8,6)\n",
        "mpl.rcParams['axes.grid'] = False\n",
        "\n"
      ]
    },
    {
      "cell_type": "code",
      "execution_count": null,
      "metadata": {},
      "outputs": [],
      "source": [
        "orig_df = pd.read_csv('/Users/faymajidelhassan/Downloads/Master project /Data/Weather/forecasts/open_weather.csv') \n",
        "df = orig_df.copy() \n",
        "print(f'Size of the dataset: {df.shape} \\n')  \n",
        "print() \n",
        "display(df.head(5))"
      ]
    },
    {
      "cell_type": "code",
      "execution_count": null,
      "metadata": {},
      "outputs": [],
      "source": [
        "# Convert specific columns to lists of floats\n",
        "# columns_to_convert1 = [\n",
        "#     'temperature', 'humidity', 'pressure',\t'cloud_cover',\t'wind_speed',\n",
        "#         \t'wind_direction',\t'weather_code'\t,'poprecipitation'\n",
        "# ]\n",
        "\n",
        "columns_to_convert2 = [\n",
        "    'temperature', 'humidity', 'pressure',\n",
        "    'cloud_cover', 'wind_speed', 'wind_direction', 'poprecipitation',\n",
        "     'weather_code'\n",
        "]\n",
        "def convert_columns_to_floats2(df, columns_to_convert):\n",
        "    for col in columns_to_convert:\n",
        "        print(f\"Processing column: {col}\")\n",
        "        df[col] = df[col].astype(str).apply(parse_complex_string)\n",
        "        print(f\"Processed column: {col}\")\n",
        "    return df\n",
        "\n",
        "def flatten_columns(df, columns_to_flatten):\n",
        "    for col in columns_to_flatten:\n",
        "        df[col] = df[col].apply(lambda x: np.mean(x) if isinstance(x, list) else x)\n",
        "    return df\n",
        "def reduce_cells_for_all_columns(df, columns_to_reduce,n=int):\n",
        "    '''\n",
        "    Reduce each cell in each column by 96 values from the end\n",
        "    '''\n",
        "    for cols in columns_to_reduce:\n",
        "        df[cols] = df[cols].apply(lambda x: x[:-n])\n",
        "    return df\n",
        "# df = convert_columns_to_floats2(df, columns_to_convert1)\n",
        "df= convert_columns_to_floats2(df, columns_to_convert2)\n",
        "# Flatten the columns\n",
        "# df= reduce_cells_for_all_columns(df,columns_to_convert2,n=72)\n",
        "# df = flatten_columns(df, columns_to_convert1)\n",
        "df = flatten_columns(df, columns_to_convert2)"
      ]
    },
    {
      "cell_type": "code",
      "execution_count": null,
      "metadata": {},
      "outputs": [],
      "source": [
        "df.head()"
      ]
    },
    {
      "cell_type": "code",
      "execution_count": 47,
      "metadata": {},
      "outputs": [],
      "source": [
        "# Convert timestamp to datetime and set as index\n",
        "df['timestamp'] = pd.to_datetime(df['timestamp'])\n",
        "df.set_index('timestamp', inplace=True)\n",
        "\n",
        "# Fill missing values using forward fill\n",
        "df = df.fillna(method='ffill')\n",
        "\n",
        "# Plot univariate data (temperature)\n",
        "uni_data = df['temperature']\n",
        "uni_data.plot()\n",
        "\n",
        "# Resample and aggregate the data\n",
        "df = df.resample('10T').agg({\n",
        "    'temperature': 'mean',  \n",
        "    'humidity': 'mean',     \n",
        "    'pressure': 'mean',  \n",
        "    \n",
        "    'cloud_cover': 'mean',\n",
        "    'wind_speed': 'mean',\n",
        "    'wind_direction': 'mean',\n",
        "    'poprecipitation': 'sum',\n",
        "    \n",
        "    'weather_code': 'sum'\n",
        "})\n"
      ]
    },
    {
      "cell_type": "code",
      "execution_count": null,
      "metadata": {},
      "outputs": [],
      "source": [
        "df.describe()"
      ]
    },
    {
      "cell_type": "markdown",
      "metadata": {
        "colab_type": "text",
        "id": "kBZ2zKYtq2kl"
      },
      "source": [
        "Observations:\n",
        "1) One reading evrry 10 mins (from datatime column time diff for every record )\n",
        "2) 1day = 6*24 = 144 readings\n",
        "Task : Forecasting Temperature(in degree ) in future \n",
        "\n",
        "\n"
      ]
    },
    {
      "cell_type": "code",
      "execution_count": null,
      "metadata": {
        "colab": {},
        "colab_type": "code",
        "id": "VLMYNIn-inKm"
      },
      "outputs": [],
      "source": [
        "uni_data = uni_data.values\n",
        "\n"
      ]
    },
    {
      "cell_type": "code",
      "execution_count": null,
      "metadata": {},
      "outputs": [],
      "source": [
        "uni_data.shape"
      ]
    },
    {
      "cell_type": "code",
      "execution_count": null,
      "metadata": {},
      "outputs": [],
      "source": [
        "# uni_data = np.array(uni_data)"
      ]
    },
    {
      "cell_type": "code",
      "execution_count": null,
      "metadata": {
        "colab": {
          "base_uri": "https://localhost:8080/",
          "height": 34
        },
        "colab_type": "code",
        "id": "EPYIEY8MinTI",
        "outputId": "e6a0c6f3-f6a2-44a7-e1e0-f2a0d2f3f35b"
      },
      "outputs": [],
      "source": [
        "## train test split for simple time series moving window average\n",
        "train_split = int(len(uni_data) * 0.8)#4234\n",
        "tf.random.set_seed(13)\n",
        "\n",
        "# ### standardize data\n",
        "# uni_data_mean = uni_data[:train_split].mean()\n",
        "# uni_data_std = uni_data[:train_split].std()\n",
        "# uni_data  = (uni_data - uni_data_mean)/ uni_data_std\n",
        "\n",
        "print(type(uni_data))\n"
      ]
    },
    {
      "cell_type": "markdown",
      "metadata": {
        "colab_type": "text",
        "id": "ZPPGWMAFtjZp"
      },
      "source": [
        "Moving Window Average\n",
        "\n",
        "\n",
        "1.   Given last 20 values of observations(temp) , predict next observation\n",
        "2.   MWA: predict== AVG(last 20 values)\n",
        "\n",
        "\n"
      ]
    },
    {
      "cell_type": "code",
      "execution_count": null,
      "metadata": {
        "colab": {},
        "colab_type": "code",
        "id": "4MFlF_abinm0"
      },
      "outputs": [],
      "source": [
        "## utility functions\n",
        "\n",
        "## funtion to create data for univariate forecasting\n",
        "\n",
        "def univariate_data(dataset, start_idx , end_idx , history_size, target_size):\n",
        "  data = []\n",
        "  labels = []\n",
        "  start_idx  = start_idx + history_size\n",
        "  if end_idx is None:\n",
        "    end_idx = len(dataset)- target_size\n",
        "  for i in range(start_idx , end_idx):\n",
        "    idxs = range(i-history_size , i)\n",
        "    data.append(np.reshape(dataset[idxs] , (history_size, 1))) ### reshape data\n",
        "    labels.append(dataset[i+target_size])\n",
        "  return np.array(data), np.array(labels)\n",
        "\n",
        "uni_data_history = 20   ## last 50 values\n",
        "uni_data_future = 0     ## future data\n",
        "\n",
        "x_train_uni , y_train_uni = univariate_data(uni_data , 0 , train_split , uni_data_history , uni_data_future)\n",
        "\n",
        "x_val_uni , y_val_uni = univariate_data(uni_data , train_split , None ,uni_data_history , uni_data_future)"
      ]
    },
    {
      "cell_type": "code",
      "execution_count": null,
      "metadata": {},
      "outputs": [],
      "source": [
        "x_train_uni"
      ]
    },
    {
      "cell_type": "code",
      "execution_count": null,
      "metadata": {
        "colab": {
          "base_uri": "https://localhost:8080/",
          "height": 51
        },
        "colab_type": "code",
        "id": "61E_3coTin1t",
        "outputId": "3353ffc3-caf2-49d8-f89d-d61773cc1da8"
      },
      "outputs": [],
      "source": [
        "print(x_train_uni.shape , y_train_uni.shape)\n",
        "print(x_val_uni.shape , y_val_uni.shape)"
      ]
    },
    {
      "cell_type": "code",
      "execution_count": null,
      "metadata": {
        "colab": {
          "base_uri": "https://localhost:8080/",
          "height": 374
        },
        "colab_type": "code",
        "id": "jtbMSRusin70",
        "outputId": "8edffc0a-4a79-4949-d05d-f9de9f0e8e80"
      },
      "outputs": [],
      "source": [
        "print('Single window of history data' , x_train_uni[0])\n",
        "\n",
        "print('Target Temperature to predict ' , y_train_uni[0])\n"
      ]
    },
    {
      "cell_type": "code",
      "execution_count": null,
      "metadata": {
        "colab": {
          "base_uri": "https://localhost:8080/",
          "height": 422
        },
        "colab_type": "code",
        "id": "A411EMdxioEV",
        "outputId": "c9675378-9c3f-498a-c440-d9dc3e54eaef"
      },
      "outputs": [],
      "source": [
        "### fucntion to create time steps\n",
        "def create_time_steps(length):\n",
        "  return list(range(-length,0))\n",
        "\n",
        "### function to plot time series data\n",
        "\n",
        "def plot_time_series(plot_data, delta , title):\n",
        "  labels = [\"History\" , 'True Future' , 'Model Predcited']\n",
        "  marker = ['.-' , 'rx' , 'go']\n",
        "  time_steps = create_time_steps(plot_data[0].shape[0])\n",
        "\n",
        "  if delta:\n",
        "    future = delta\n",
        "  else:\n",
        "    future = 0\n",
        "  plt.title(title)\n",
        "  for i , x in enumerate(plot_data):\n",
        "    if i :\n",
        "      plt.plot(future , plot_data[i] , marker[i], markersize = 10 , label = labels[i])\n",
        "    else:\n",
        "      plt.plot(time_steps, plot_data[i].flatten(), marker[i], label = labels[i])\n",
        "  plt.legend()\n",
        "  plt.xlim([time_steps[0], (future+5) *2])\n",
        "\n",
        "  plt.xlabel('Time_Step')\n",
        "  return plt\n",
        "## function to plot time series data\n",
        "\n",
        "\n",
        "\n",
        "plot_time_series([x_train_uni[0] , y_train_uni[0]] , 0 , 'Sample Example')"
      ]
    },
    {
      "cell_type": "code",
      "execution_count": null,
      "metadata": {
        "colab": {
          "base_uri": "https://localhost:8080/",
          "height": 422
        },
        "colab_type": "code",
        "id": "b5X3X05xioK0",
        "outputId": "d4442f52-0016-4061-d113-c9223ddff459"
      },
      "outputs": [],
      "source": [
        "i = 20\n",
        "plot_time_series([x_train_uni[i], y_train_uni[i]] , 0 , 'Sample Example')"
      ]
    },
    {
      "cell_type": "code",
      "execution_count": null,
      "metadata": {
        "colab": {},
        "colab_type": "code",
        "id": "NiL0a-R5ioSI"
      },
      "outputs": [],
      "source": [
        "### Moving window average\n",
        "\n",
        "def MWA(history):\n",
        "  return np.mean(history)\n",
        "\n",
        "\n"
      ]
    },
    {
      "cell_type": "code",
      "execution_count": null,
      "metadata": {
        "colab": {
          "base_uri": "https://localhost:8080/",
          "height": 422
        },
        "colab_type": "code",
        "id": "5O6tADOmioZ8",
        "outputId": "b064d6ce-87de-47ee-d48c-56565accba1d"
      },
      "outputs": [],
      "source": [
        "i = 20\n",
        "plot_time_series([x_train_uni[i] , y_train_uni[i] , MWA(x_train_uni[i])] , 0 , 'MWA predicted')"
      ]
    },
    {
      "cell_type": "markdown",
      "metadata": {
        "colab_type": "text",
        "id": "oc-bXND--IuJ"
      },
      "source": [
        "Univariate time-series forecasting\n",
        "\n",
        "\n",
        "*   Only single feature as temperature(historical data)\n",
        "*   Task:  Given last 20 observations(history) , predict next temperature value \n",
        "\n"
      ]
    },
    {
      "cell_type": "code",
      "execution_count": null,
      "metadata": {
        "colab": {
          "base_uri": "https://localhost:8080/",
          "height": 51
        },
        "colab_type": "code",
        "id": "zPd4HuN-ior8",
        "outputId": "739b28f3-18c7-4db0-efce-447de9a5b884"
      },
      "outputs": [],
      "source": [
        "## prepare tensorflow dataset\n",
        "batch_size = 256\n",
        "buffer_size = 10000\n",
        "\n",
        "train_uni = tf.data.Dataset.from_tensor_slices((x_train_uni , y_train_uni))\n",
        "train_uni = train_uni.cache().shuffle(buffer_size).batch(batch_size).repeat()\n",
        "\n",
        "val_uni = tf.data.Dataset.from_tensor_slices((x_val_uni , y_val_uni))\n",
        "val_uni = val_uni.cache().shuffle(buffer_size).batch(batch_size).repeat()\n",
        "\n",
        "print(train_uni)\n",
        "print(val_uni)"
      ]
    },
    {
      "cell_type": "code",
      "execution_count": null,
      "metadata": {
        "colab": {
          "base_uri": "https://localhost:8080/",
          "height": 374
        },
        "colab_type": "code",
        "id": "uB-3VgOJioyT",
        "outputId": "51383501-4165-4bd6-800f-b47269e8d88e"
      },
      "outputs": [],
      "source": [
        "## Define LSTM model \n",
        "\n",
        "lstm_model = tf.keras.models.Sequential([tf.keras.layers.LSTM(16 , input_shape = x_train_uni.shape[-2:]), \n",
        "                                         tf.keras.layers.Dense(1)])\n",
        "\n",
        "lstm_model.compile(optimizer = 'adam', loss = 'mae')\n",
        "\n",
        "steps = 200\n",
        "\n",
        "EPOCHS =10\n",
        "\n",
        "lstm_model.fit(train_uni , epochs = EPOCHS, steps_per_epoch = steps ,\n",
        "               validation_data = val_uni, validation_steps = 50)\n",
        "\n",
        "\n"
      ]
    },
    {
      "cell_type": "code",
      "execution_count": null,
      "metadata": {
        "colab": {
          "base_uri": "https://localhost:8080/",
          "height": 1000
        },
        "colab_type": "code",
        "id": "DKEA53lliov0",
        "outputId": "fb4cf444-7200-4992-9758-fa70c0043598"
      },
      "outputs": [],
      "source": [
        "for i , j in val_uni.take(5):\n",
        "  plot = plot_time_series([i[0].numpy() , j[0].numpy() , lstm_model.predict(i)[0]] ,0 , 'LSTM UNIVARIATE')\n",
        "  plot.show()"
      ]
    },
    {
      "cell_type": "markdown",
      "metadata": {
        "colab_type": "text",
        "id": "MTfs6GPbDOiL"
      },
      "source": [
        "Multivariate  and Single step Forecasting\n",
        "\n",
        "\n",
        "*   Task: Given 3 features(temp , pressure , and density) at each time step can we predict the temp in future at single time step\n",
        "\n",
        "\n"
      ]
    },
    {
      "cell_type": "code",
      "execution_count": null,
      "metadata": {
        "colab": {
          "base_uri": "https://localhost:8080/",
          "height": 235
        },
        "colab_type": "code",
        "id": "Hh2HnNjxiopi",
        "outputId": "a56dd85c-86c9-4e8a-aa7c-892eb4b342d1"
      },
      "outputs": [],
      "source": [
        "## features \n",
        "\n",
        "# features_6 = ['temperature', 'humidity', 'pressure', 'global_irradiance', 'direct_irradiance', 'diffuse_irradiance']\n",
        "features14 = [\n",
        "    'temperature', 'humidity', 'pressure',\n",
        "    'cloud_cover', 'wind_speed', 'wind_direction', 'poprecipitation'\n",
        "]\n",
        "features = df[features14]\n",
        "features.head()\n",
        "\n"
      ]
    },
    {
      "cell_type": "code",
      "execution_count": null,
      "metadata": {},
      "outputs": [],
      "source": [
        "features.isnull().sum()\n",
        "features=features.fillna(features.mean())"
      ]
    },
    {
      "cell_type": "code",
      "execution_count": null,
      "metadata": {
        "colab": {
          "base_uri": "https://localhost:8080/",
          "height": 475
        },
        "colab_type": "code",
        "id": "Uaz4LXuUioiq",
        "outputId": "2ed6f021-f8e5-43a0-b301-21be42024f6d"
      },
      "outputs": [],
      "source": [
        "features.plot(subplots=True)"
      ]
    },
    {
      "cell_type": "code",
      "execution_count": null,
      "metadata": {
        "colab": {},
        "colab_type": "code",
        "id": "n5Ft3nfyiogy"
      },
      "outputs": [],
      "source": [
        "# ### standardize data\n",
        "dataset = features.values\n",
        "# dataset = np.array(features)\n",
        "data_mean = dataset[:train_split].mean(axis =0)\n",
        "\n",
        "data_std = dataset[:train_split].std(axis = 0)\n",
        "\n",
        "dataset = (dataset - data_mean)/data_std\n",
        "\n"
      ]
    },
    {
      "cell_type": "code",
      "execution_count": null,
      "metadata": {
        "colab": {},
        "colab_type": "code",
        "id": "i4LP5gdAiocw"
      },
      "outputs": [],
      "source": [
        "# # ### create mutlivariate data\n",
        "\n",
        "# def multivariate_data(dataset, target, start_idx, end_idx, history_size, target_size, step, single_step=False):\n",
        "#     data, labels = [], []\n",
        "#     start_idx += history_size\n",
        "#     if end_idx is None:\n",
        "#         end_idx = len(dataset) - target_size\n",
        "#     for i in range(start_idx, end_idx):\n",
        "#         indices = range(i-history_size, i, step)\n",
        "#         data.append(dataset[indices])\n",
        "#         if single_step:\n",
        "#             labels.append(target[i+target_size])\n",
        "#         else:\n",
        "#             labels.append(target[i:i+target_size])\n",
        "#     return np.array(data), np.array(labels)\n",
        "def multivariate_data(dataset, target, start_index, end_index, history_size,\n",
        "                      target_size, step, single_step=False):\n",
        "    data = []\n",
        "    labels = []\n",
        "\n",
        "    # Adjust end_index to avoid out-of-bounds error\n",
        "    end_index = end_index if end_index is not None else len(dataset) - target_size\n",
        "    \n",
        "    # Adjust start_index to accommodate history_size\n",
        "    start_index = start_index + history_size\n",
        "\n",
        "    for i in range(start_index, end_index):\n",
        "        indices = range(i-history_size, i, step)\n",
        "        data.append(dataset[indices])\n",
        "\n",
        "        if single_step:\n",
        "            labels.append(target[i+target_size])\n",
        "        else:\n",
        "            labels.append(target[i:i+target_size])\n",
        "    \n",
        "    return np.array(data), np.array(labels)\n"
      ]
    },
    {
      "cell_type": "code",
      "execution_count": null,
      "metadata": {
        "colab": {
          "base_uri": "https://localhost:8080/",
          "height": 34
        },
        "colab_type": "code",
        "id": "qmdeBNcuioYX",
        "outputId": "d6f3a6a9-ff5b-4b45-8eeb-35a96b06293a"
      },
      "outputs": [],
      "source": [
        "# ### generate multivariate data\n",
        "from sklearn.preprocessing import StandardScaler\n",
        "# history = 720\n",
        "# future_target = 72\n",
        "# STEP = 6\n",
        "\n",
        "# x_train_ss, y_train_ss = multivariate_data(dataset, dataset[:, 1], 0, train_split, history,\n",
        "#                                            future_target, STEP, single_step=True)\n",
        "\n",
        "\n",
        "# x_val_ss , y_val_ss = multivariate_data(dataset , dataset[:,1] , train_split , None , history,\n",
        "#                                         future_target, STEP, single_step = True)\n",
        "\n",
        "\n",
        "# print(x_train_ss.shape , y_train_ss.shape)\n",
        "# Define your parameters\n",
        "# Define your parameters\n",
        "history = 720\n",
        "future_target = 72\n",
        "STEP = 6\n",
        "train_split = int(len(dataset) * 0.7)\n",
        "# scaler = StandardScaler()\n",
        "# scaler.fit(dataset[:train_split])\n",
        "\n",
        "# # Transform the entire dataset\n",
        "# dataset = scaler.transform(dataset)\n",
        "# Get training data\n",
        "x_train_ss, y_train_ss = multivariate_data(dataset, dataset[:, 1], 0, train_split, history, future_target, STEP, single_step=True)\n",
        "\n",
        "# Get validation data\n",
        "x_val_ss, y_val_ss = multivariate_data(dataset, dataset[:, 1], train_split, None, history, future_target, STEP, single_step=True)\n",
        "\n",
        "# Check shapes\n",
        "print(x_train_ss.shape, y_train_ss.shape)\n",
        "print(x_val_ss.shape, y_val_ss.shape)\n",
        "\n"
      ]
    },
    {
      "cell_type": "code",
      "execution_count": null,
      "metadata": {},
      "outputs": [],
      "source": [
        "x_train_ss"
      ]
    },
    {
      "cell_type": "code",
      "execution_count": null,
      "metadata": {
        "colab": {
          "base_uri": "https://localhost:8080/",
          "height": 51
        },
        "colab_type": "code",
        "id": "Ufyzs-nFioVO",
        "outputId": "246c3cbd-082b-4345-efbc-7863582bb575"
      },
      "outputs": [],
      "source": [
        "## tensorflow dataset\n",
        "\n",
        "train_ss = tf.data.Dataset.from_tensor_slices((x_train_ss, y_train_ss))\n",
        "train_ss = train_ss.cache().shuffle(buffer_size).batch(batch_size).repeat()\n",
        "\n",
        "val_ss = tf.data.Dataset.from_tensor_slices((x_val_ss, y_val_ss))\n",
        "val_ss = val_ss.cache().shuffle(buffer_size).batch(batch_size).repeat()\n",
        "\n",
        "print(train_ss)\n",
        "print(val_ss)\n",
        "\n"
      ]
    },
    {
      "cell_type": "code",
      "execution_count": null,
      "metadata": {
        "colab": {
          "base_uri": "https://localhost:8080/",
          "height": 357
        },
        "colab_type": "code",
        "id": "Rb2wsAl_ioQ5",
        "outputId": "f3e45add-1257-406c-d926-824837951a7e"
      },
      "outputs": [],
      "source": [
        "### Modelling using LSTM\n",
        "from keras.callbacks import EarlyStopping\n",
        "callbacks = EarlyStopping(\n",
        "    patience = 10 , \n",
        "    restore_best_weights = True , \n",
        "    monitor = 'val_loss'\n",
        ")\n",
        "single_step_model = tf.keras.models.Sequential()\n",
        "\n",
        "single_step_model.add(tf.keras.layers.LSTM(16, return_sequences=True,input_shape = x_train_ss.shape[-2:]))\n",
        "# single_step_model.add(tf.keras.layers.LSTM(16,return_sequences=False))\n",
        "# single_step_model.add(tf.keras.layers.Dense(4, activation=\"relu\"))\n",
        "single_step_model.add(tf.keras.layers.Dense(1))\n",
        "single_step_model.compile(optimizer = tf.keras.optimizers.Adam(clipvalue=1.0,weight_decay=1e-6), loss = 'mae')\n",
        "single_step_model.summary()\n",
        "\n",
        "\n",
        "single_step_model_history = single_step_model.fit(train_ss, epochs = EPOCHS ,\n",
        "                                                  steps_per_epoch =steps,verbose=1, validation_data = val_ss,\n",
        "                                                  validation_steps = 50)\n"
      ]
    },
    {
      "cell_type": "code",
      "execution_count": null,
      "metadata": {
        "colab": {
          "base_uri": "https://localhost:8080/",
          "height": 390
        },
        "colab_type": "code",
        "id": "6-z4nTiFioND",
        "outputId": "c79a043e-97bc-4662-a842-069fdbbb432c"
      },
      "outputs": [],
      "source": [
        "## plot train test loss \n",
        "\n",
        "def plot_loss(history , title):\n",
        "  loss = history.history['loss']\n",
        "  val_loss = history.history['val_loss']\n",
        "\n",
        "  epochs = range(len(loss))\n",
        "  plt.figure()\n",
        "  plt.plot(epochs, loss , 'b' , label = 'Train Loss')\n",
        "  plt.plot(epochs, val_loss , 'r' , label = 'Validation Loss')\n",
        "  plt.title(title)\n",
        "  plt.legend()\n",
        "  plt.grid()\n",
        "  plt.show()\n",
        "\n",
        "plot_loss(single_step_model_history , 'Single Step Training and validation loss')"
      ]
    },
    {
      "cell_type": "code",
      "execution_count": null,
      "metadata": {
        "colab": {
          "base_uri": "https://localhost:8080/",
          "height": 1000
        },
        "colab_type": "code",
        "id": "b2lNfZZLioJG",
        "outputId": "b9ab67ae-4941-4ae1-a589-baa8bffebd18"
      },
      "outputs": [],
      "source": [
        "# plot time series and predicted values\n",
        "\n",
        "for x, y in val_ss.take(5):\n",
        "  plot = plot_time_series([x[0][:, 1].numpy(), y[0].numpy(),\n",
        "                    single_step_model.predict(x)[0]], 12,\n",
        "                   'Single Step Prediction')\n",
        "  plot.show()"
      ]
    },
    {
      "cell_type": "markdown",
      "metadata": {
        "colab_type": "text",
        "id": "D9Kz451TRYtL"
      },
      "source": [
        "Multi-variate & multi-step forecasting\n",
        "-> Generate multiple future values of temperature"
      ]
    },
    {
      "cell_type": "code",
      "execution_count": null,
      "metadata": {
        "colab": {
          "base_uri": "https://localhost:8080/",
          "height": 51
        },
        "colab_type": "code",
        "id": "c9g7pWStioAV",
        "outputId": "de2d7375-4614-4369-c8a7-0469bf395648"
      },
      "outputs": [],
      "source": [
        "future_target = 72 # 72 future values\n",
        "x_train_multi, y_train_multi = multivariate_data(dataset, dataset[:, 1], 0,\n",
        "                                                 train_split, history,\n",
        "                                                 future_target, STEP)\n",
        "x_val_multi, y_val_multi = multivariate_data(dataset, dataset[:, 1],\n",
        "                                             train_split, None, history,\n",
        "                                             future_target, STEP)\n",
        "\n",
        "print(x_train_multi.shape)\n",
        "print(y_train_multi.shape)"
      ]
    },
    {
      "cell_type": "code",
      "execution_count": null,
      "metadata": {
        "colab": {},
        "colab_type": "code",
        "id": "Fkwcf3UNin6l"
      },
      "outputs": [],
      "source": [
        "# TF DATASET\n",
        "\n",
        "train_data_multi = tf.data.Dataset.from_tensor_slices((x_train_multi, y_train_multi))\n",
        "train_data_multi = train_data_multi.cache().shuffle(buffer_size).batch(batch_size).repeat()\n",
        "\n",
        "val_data_multi = tf.data.Dataset.from_tensor_slices((x_val_multi, y_val_multi))\n",
        "val_data_multi = val_data_multi.batch(batch_size).repeat()"
      ]
    },
    {
      "cell_type": "code",
      "execution_count": null,
      "metadata": {
        "colab": {
          "base_uri": "https://localhost:8080/",
          "height": 374
        },
        "colab_type": "code",
        "id": "GPyypB20in0P",
        "outputId": "8dff268f-7ca0-4881-f4ee-704cd053f81e"
      },
      "outputs": [],
      "source": [
        "#plotting function\n",
        "def multi_step_plot(history, true_future, prediction):\n",
        "  plt.figure(figsize=(12, 6))\n",
        "  num_in = create_time_steps(len(history))\n",
        "  num_out = len(true_future)\n",
        "  plt.grid()\n",
        "  plt.plot(num_in, np.array(history[:, 1]), label='History')\n",
        "  plt.plot(np.arange(num_out)/STEP, np.array(true_future), 'bo',\n",
        "           label='True Future')\n",
        "  if prediction.any():\n",
        "    plt.plot(np.arange(num_out)/STEP, np.array(prediction), 'ro',\n",
        "             label='Predicted Future')\n",
        "  plt.legend(loc='upper left')\n",
        "  plt.show()\n",
        "  \n",
        "\n",
        "\n",
        "for x, y in train_data_multi.take(1):\n",
        "  multi_step_plot(x[0], y[0], np.array([0]))"
      ]
    },
    {
      "cell_type": "code",
      "execution_count": null,
      "metadata": {
        "colab": {
          "base_uri": "https://localhost:8080/",
          "height": 357
        },
        "colab_type": "code",
        "id": "28MmEpt8TD12",
        "outputId": "5cd8459f-2c71-4856-8326-1e22ec4f8fa4"
      },
      "outputs": [],
      "source": [
        "# multi_step_model = tf.keras.models.Sequential()\n",
        "# multi_step_model.add(tf.keras.layers.LSTM(16,\n",
        "#                                           return_sequences=True,\n",
        "#                                           input_shape=x_train_multi.shape[-2:]))\n",
        "# multi_step_model.add(tf.keras.layers.LSTM(32,return_sequences=False, activation='relu'))\n",
        "# multi_step_model.add(tf.keras.layers.Dense(4))\n",
        "# multi_step_model.add(tf.keras.layers.Dense(72)) # for 72 outputs\n",
        "\n",
        "# multi_step_model.compile(optimizer=tf.keras.optimizers.SGD(clipvalue=1.0,weight_decay=1e-6), loss='mae')\n",
        "# multi_step_model.summary()\n",
        "# multi_step_history = multi_step_model.fit(train_data_multi, epochs=EPOCHS,\n",
        "#                                           steps_per_epoch=steps,\n",
        "#                                           validation_data=val_data_multi,\n",
        "#                                           validation_steps=50,callbacks = [callbacks])\n",
        "\n",
        "\n",
        "\n",
        "# Define the model\n",
        "multi_step_model = tf.keras.models.Sequential([\n",
        "    tf.keras.layers.LSTM(64, return_sequences=True, input_shape=x_train_multi.shape[-2:]),\n",
        "    # tf.keras.layers.Dropout(0.2),  # Dropout layer for regularization\n",
        "    tf.keras.layers.LSTM(16, return_sequences=False, activation='relu'),\n",
        "    # tf.keras.layers.Dropout(0.2),  # Dropout layer for regularization\n",
        "    # tf.keras.layers.LSTM(2, return_sequences=False, activation='relu'),\n",
        "    tf.keras.layers.Dense(4, activation='relu'),  # Additional dense layer\n",
        "    tf.keras.layers.Dense(72)  # 72 outputs for future predictions\n",
        "])\n",
        "\n",
        "# Compile the model\n",
        "multi_step_model.compile(optimizer=tf.keras.optimizers.Adam(clipvalue=1.0,weight_decay=1e-6), loss='mae')\n",
        "\n",
        "# Print the model summary\n",
        "multi_step_model.summary()\n",
        "\n",
        "# Define callbacks for early stopping and learning rate scheduling\n",
        "# \n",
        "\n",
        "# Fit the model\n",
        "enhanced_history = multi_step_model.fit(train_data_multi, \n",
        "                                      epochs=EPOCHS,\n",
        "                                      steps_per_epoch=steps,\n",
        "                                      validation_data=val_data_multi,\n",
        "                                      validation_steps=50\n",
        "                                    )"
      ]
    },
    {
      "cell_type": "code",
      "execution_count": null,
      "metadata": {
        "colab": {
          "base_uri": "https://localhost:8080/",
          "height": 390
        },
        "colab_type": "code",
        "id": "zaCJerqLinvP",
        "outputId": "266d7736-69ed-4dc6-f46a-f025417209f0"
      },
      "outputs": [],
      "source": [
        "plot_loss(enhanced_history, 'Multi-Step Training and validation loss')\n"
      ]
    },
    {
      "cell_type": "code",
      "execution_count": null,
      "metadata": {
        "colab": {
          "base_uri": "https://localhost:8080/",
          "height": 1000
        },
        "colab_type": "code",
        "id": "9ohuOxLrinkt",
        "outputId": "df84339c-c680-49e0-d80e-def97e196e87"
      },
      "outputs": [],
      "source": [
        "for x, y in val_data_multi.take(5):\n",
        "  multi_step_plot(x[0], y[0], multi_step_model.predict(x)[0])"
      ]
    },
    {
      "cell_type": "code",
      "execution_count": null,
      "metadata": {},
      "outputs": [],
      "source": [
        "mae_lstm_single = single_step_model.evaluate(val_ss, steps=100)\n",
        "mae_lstm_multi=multi_step_model.evaluate(val_data_multi, steps=100)"
      ]
    },
    {
      "cell_type": "code",
      "execution_count": null,
      "metadata": {},
      "outputs": [],
      "source": [
        "from tensorflow.keras.models import load_model\n",
        "\n",
        "# Load the model\n",
        "loaded_model = load_model('/Users/faymajidelhassan/Downloads/Master project /CODE/EDA/Saved_models/Lstm_multi_step_model_measure+precip.h5')\n",
        "loaded_model2 = load_model('/Users/faymajidelhassan/Downloads/Master project /CODE/EDA/Saved_models/Lstm_single_step_model_measure+precip.h5')\n",
        "\n",
        "# Optionally, you can verify the model by making predictions\n",
        "for x, y in val_data_multi.take(5):\n",
        "\n",
        "    predictions = loaded_model.predict(x)\n",
        "    multi_step_plot(x[0], y[0], loaded_model.predict(x)[0])\n"
      ]
    },
    {
      "cell_type": "code",
      "execution_count": null,
      "metadata": {},
      "outputs": [],
      "source": [
        "from tensorflow.keras.models import load_model\n",
        "from tensorflow.keras.losses import MeanAbsoluteError\n",
        "import numpy as np\n",
        "import matplotlib.pyplot as plt\n",
        "\n",
        "# Define a dictionary with custom objects if needed\n",
        "custom_objects = {'mae': MeanAbsoluteError()}\n",
        "\n",
        "# Load the models\n",
        "loaded_model = load_model('/Users/faymajidelhassan/Downloads/Master project /CODE/EDA/Saved_models/Lstm_multi_step_model_measure+precip.h5', custom_objects=custom_objects)\n",
        "loaded_model2 = load_model('/Users/faymajidelhassan/Downloads/Master project /CODE/EDA/Saved_models/Lstm_single_step_model_measure+precip.h5', custom_objects=custom_objects)\n",
        "\n",
        "print(\"Models loaded successfully\")\n",
        "\n",
        "# Define the multi-step plot function\n",
        "def multi_step_plot(history, true_future, prediction):\n",
        "    plt.figure(figsize=(12, 6))\n",
        "    num_in = list(range(-len(history), 0))\n",
        "    num_out = list(range(len(true_future)))\n",
        "\n",
        "    plt.plot(num_in, np.array(history[:, 1]), label='History')\n",
        "    plt.plot(num_out, np.array(true_future), 'bo-', label='True Future')  # Change 'bo' to 'bo-' to plot line with markers\n",
        "    plt.plot(num_out, np.array(prediction), 'ro-', label='Predicted Future')  # Change 'ro' to 'ro-' to plot line with markers\n",
        "\n",
        "    plt.legend(loc='upper left')\n",
        "    plt.xlabel('Time Steps')\n",
        "    plt.ylabel('Value')\n",
        "    plt.title('Multi-Step Forecasting')\n",
        "    plt.grid(True)\n",
        "    plt.show()\n",
        "\n",
        "# Use the loaded model to make predictions and plot them\n",
        "for x, y in val_data_multi.take(5):\n",
        "    prediction = loaded_model.predict(x)[0]\n",
        "    multi_step_plot(x[0], y[0], prediction)\n"
      ]
    },
    {
      "cell_type": "code",
      "execution_count": null,
      "metadata": {},
      "outputs": [],
      "source": [
        "mae_lstm_multi=loaded_model.evaluate(val_data_multi, steps=100)"
      ]
    },
    {
      "cell_type": "code",
      "execution_count": null,
      "metadata": {
        "colab": {},
        "colab_type": "code",
        "id": "mR8GfISvineh"
      },
      "outputs": [],
      "source": [
        "for x, y in val_ss.take(5):\n",
        "    prediction = transformer_model.predict(x)\n",
        "    plot = plot_time_series([x[0].numpy(), y[0].numpy(), prediction[0]], 'Transformer UNIVARIATE')\n",
        "    plot.show()\n"
      ]
    },
    {
      "cell_type": "code",
      "execution_count": null,
      "metadata": {
        "colab": {},
        "colab_type": "code",
        "id": "Fghz0HC4inWu"
      },
      "outputs": [],
      "source": []
    },
    {
      "cell_type": "code",
      "execution_count": null,
      "metadata": {
        "colab": {},
        "colab_type": "code",
        "id": "mVJZCCyEinR6"
      },
      "outputs": [],
      "source": []
    },
    {
      "cell_type": "code",
      "execution_count": null,
      "metadata": {
        "colab": {},
        "colab_type": "code",
        "id": "XwU_HaVDinNz"
      },
      "outputs": [],
      "source": []
    },
    {
      "cell_type": "code",
      "execution_count": null,
      "metadata": {
        "colab": {},
        "colab_type": "code",
        "id": "pmUq6V7rinHc"
      },
      "outputs": [],
      "source": []
    },
    {
      "cell_type": "code",
      "execution_count": null,
      "metadata": {
        "colab": {},
        "colab_type": "code",
        "id": "nWdiY-THinCH"
      },
      "outputs": [],
      "source": []
    },
    {
      "cell_type": "code",
      "execution_count": null,
      "metadata": {
        "colab": {},
        "colab_type": "code",
        "id": "oMyZ_5Zyim7-"
      },
      "outputs": [],
      "source": []
    },
    {
      "cell_type": "code",
      "execution_count": null,
      "metadata": {
        "colab": {},
        "colab_type": "code",
        "id": "Qc3pxLPBim4k"
      },
      "outputs": [],
      "source": []
    },
    {
      "cell_type": "code",
      "execution_count": null,
      "metadata": {
        "colab": {},
        "colab_type": "code",
        "id": "w8y2R6zVim0X"
      },
      "outputs": [],
      "source": []
    },
    {
      "cell_type": "code",
      "execution_count": null,
      "metadata": {
        "colab": {},
        "colab_type": "code",
        "id": "cR1L9pvfimt4"
      },
      "outputs": [],
      "source": []
    }
  ],
  "metadata": {
    "colab": {
      "collapsed_sections": [],
      "name": "Time Series Forecasting (Predicting Temperature) using LSTM .ipynb",
      "provenance": []
    },
    "kernelspec": {
      "display_name": "Python 3",
      "name": "python3"
    },
    "language_info": {
      "codemirror_mode": {
        "name": "ipython",
        "version": 3
      },
      "file_extension": ".py",
      "mimetype": "text/x-python",
      "name": "python",
      "nbconvert_exporter": "python",
      "pygments_lexer": "ipython3",
      "version": "3.10.12"
    }
  },
  "nbformat": 4,
  "nbformat_minor": 0
}
